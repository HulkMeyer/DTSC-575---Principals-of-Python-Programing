{
 "cells": [
  {
   "cell_type": "markdown",
   "id": "8337124f",
   "metadata": {},
   "source": [
    "# Strings Overview\n",
    "\n",
    "Introduction video - basic overview of what module with contain. "
   ]
  },
  {
   "cell_type": "markdown",
   "id": "9f6bf6b8",
   "metadata": {},
   "source": [
    "# Strings Part 1\n",
    "\n",
    "* Combination\n",
    "* Duplication\n",
    "* Indexing\n",
    "* Slicing\n",
    "* Length\n",
    "* Strip\n",
    "* Replace\n",
    "\n",
    "These should be things you already know how to do at this point or be able to pick up on them quickly\n",
    "\n"
   ]
  },
  {
   "cell_type": "code",
   "execution_count": 4,
   "id": "4b55bba7",
   "metadata": {},
   "outputs": [
    {
     "name": "stdout",
     "output_type": "stream",
     "text": [
      " \n",
      "hello\n",
      "world\n",
      "it \n",
      "is \n",
      "me \n",
      "\n"
     ]
    }
   ],
   "source": [
    "# to create or input a multi line string you use '''   ''' triple quotes\n",
    "x = ''' \n",
    "hello\n",
    "world\n",
    "it \n",
    "is \n",
    "me \n",
    "'''\n",
    "\n",
    "print(x)"
   ]
  },
  {
   "cell_type": "code",
   "execution_count": 7,
   "id": "6ae0c770",
   "metadata": {},
   "outputs": [
    {
     "data": {
      "text/plain": [
       "' \\nhello\\nworld\\nit \\nis \\nme \\n'"
      ]
     },
     "execution_count": 7,
     "metadata": {},
     "output_type": "execute_result"
    }
   ],
   "source": [
    "x\n"
   ]
  },
  {
   "cell_type": "markdown",
   "id": "a92b57d3",
   "metadata": {},
   "source": [
    "/n you is the new line escape\n",
    "this is the symbol that denotes go to the next line\n",
    "If you just recall the variable as above, you will get the /n denoting going to the next line.  it is only when you print that it will accutally give you the output. as shown above\n"
   ]
  },
  {
   "cell_type": "code",
   "execution_count": 9,
   "id": "3aab5dec",
   "metadata": {},
   "outputs": [
    {
     "data": {
      "text/plain": [
       "'\"I did nothing!\" he said'"
      ]
     },
     "execution_count": 9,
     "metadata": {},
     "output_type": "execute_result"
    }
   ],
   "source": [
    "\"\\\"I did nothing!\\\" he said\"\n",
    "# this allows us to keep the quotes if we are referencing what someone said. "
   ]
  },
  {
   "cell_type": "code",
   "execution_count": 10,
   "id": "1bc4ea87",
   "metadata": {},
   "outputs": [
    {
     "name": "stdout",
     "output_type": "stream",
     "text": [
      "Here is a backslash: \\\n"
     ]
    }
   ],
   "source": [
    "# how do we get to keep a backslash to stay\n",
    "x = \"Here is a backslash: \\\\\"\n",
    "print(x)\n",
    "\n",
    "# the backslash is used to denote a break, or change line"
   ]
  },
  {
   "cell_type": "code",
   "execution_count": 11,
   "id": "d2da57f8",
   "metadata": {},
   "outputs": [
    {
     "data": {
      "text/plain": [
       "'Here is a backslash: \\\\'"
      ]
     },
     "execution_count": 11,
     "metadata": {},
     "output_type": "execute_result"
    }
   ],
   "source": [
    "# here is the raw string from that code, notice the difference in the output from the print command vs. just asking for the variable.\n",
    "x"
   ]
  },
  {
   "cell_type": "markdown",
   "id": "cedc7011",
   "metadata": {},
   "source": [
    "# Strip Case Alignment\n",
    "\n"
   ]
  },
  {
   "cell_type": "code",
   "execution_count": 12,
   "id": "f59a0944",
   "metadata": {},
   "outputs": [
    {
     "name": "stdout",
     "output_type": "stream",
     "text": [
      "     earth     \n"
     ]
    }
   ],
   "source": [
    "# extra spaces on the front or back of a string is called padding.  \n",
    "world = '     earth     '\n",
    "print(world)"
   ]
  },
  {
   "cell_type": "code",
   "execution_count": 13,
   "id": "84171092",
   "metadata": {},
   "outputs": [
    {
     "data": {
      "text/plain": [
       "'earth'"
      ]
     },
     "execution_count": 13,
     "metadata": {},
     "output_type": "execute_result"
    }
   ],
   "source": [
    "# To take away the padding you, you can use the strip command\n",
    "world.strip()"
   ]
  },
  {
   "cell_type": "code",
   "execution_count": 14,
   "id": "2eea0188",
   "metadata": {},
   "outputs": [
    {
     "data": {
      "text/plain": [
       "'earth'"
      ]
     },
     "execution_count": 14,
     "metadata": {},
     "output_type": "execute_result"
    }
   ],
   "source": [
    "# you can explicitly say what you want to strip out\n",
    "world.strip(' ')"
   ]
  },
  {
   "cell_type": "code",
   "execution_count": 16,
   "id": "92be5601",
   "metadata": {},
   "outputs": [],
   "source": [
    "x = 'hello my name is Greg'"
   ]
  },
  {
   "cell_type": "code",
   "execution_count": 17,
   "id": "defed720",
   "metadata": {},
   "outputs": [
    {
     "data": {
      "text/plain": [
       "'hello my name is Greg'"
      ]
     },
     "execution_count": 17,
     "metadata": {},
     "output_type": "execute_result"
    }
   ],
   "source": [
    "# Note: strip command only looks at the front and the back of a string.  So, it will not strip out all the spaces inside a string\n",
    "x.strip()"
   ]
  },
  {
   "cell_type": "markdown",
   "id": "0e23a0b6",
   "metadata": {},
   "source": [
    "## Some of the other functions that can be done\n"
   ]
  },
  {
   "cell_type": "code",
   "execution_count": 20,
   "id": "430f6cea",
   "metadata": {},
   "outputs": [
    {
     "data": {
      "text/plain": [
       "'a duck goes into a bar...'"
      ]
     },
     "execution_count": 20,
     "metadata": {},
     "output_type": "execute_result"
    }
   ],
   "source": [
    "setup = 'a duck goes into a bar...'\n",
    "setup"
   ]
  },
  {
   "cell_type": "code",
   "execution_count": 21,
   "id": "0ac5aff3",
   "metadata": {},
   "outputs": [
    {
     "data": {
      "text/plain": [
       "'a duck goes into a bar'"
      ]
     },
     "execution_count": 21,
     "metadata": {},
     "output_type": "execute_result"
    }
   ],
   "source": [
    "setup.strip('.')"
   ]
  },
  {
   "cell_type": "code",
   "execution_count": 23,
   "id": "a7fc744d",
   "metadata": {},
   "outputs": [
    {
     "data": {
      "text/plain": [
       "'A duck goes into a bar...'"
      ]
     },
     "execution_count": 23,
     "metadata": {},
     "output_type": "execute_result"
    }
   ],
   "source": [
    "setup.capitalize()  # capitalizes the first letter of the String"
   ]
  },
  {
   "cell_type": "code",
   "execution_count": 24,
   "id": "44f56a24",
   "metadata": {},
   "outputs": [
    {
     "data": {
      "text/plain": [
       "'A Duck Goes Into A Bar...'"
      ]
     },
     "execution_count": 24,
     "metadata": {},
     "output_type": "execute_result"
    }
   ],
   "source": [
    "setup.title()  # capitalizes the first letter of each word"
   ]
  },
  {
   "cell_type": "code",
   "execution_count": 25,
   "id": "15043e42",
   "metadata": {},
   "outputs": [
    {
     "data": {
      "text/plain": [
       "'A DUCK GOES INTO A BAR...'"
      ]
     },
     "execution_count": 25,
     "metadata": {},
     "output_type": "execute_result"
    }
   ],
   "source": [
    "setup.upper()  # capitalizes all the letters in the string"
   ]
  },
  {
   "cell_type": "code",
   "execution_count": 26,
   "id": "60ef3380",
   "metadata": {},
   "outputs": [
    {
     "data": {
      "text/plain": [
       "'a duck goes into a bar...'"
      ]
     },
     "execution_count": 26,
     "metadata": {},
     "output_type": "execute_result"
    }
   ],
   "source": [
    "setup.lower() # makes all letters in the string lowercase"
   ]
  },
  {
   "cell_type": "code",
   "execution_count": 27,
   "id": "7c7886cb",
   "metadata": {},
   "outputs": [
    {
     "data": {
      "text/plain": [
       "'A DUCK GOES INTO A BAR...'"
      ]
     },
     "execution_count": 27,
     "metadata": {},
     "output_type": "execute_result"
    }
   ],
   "source": [
    "setup.swapcase()  # this will change the case of all the letters and changes them to the opposite.  So lower to uppper or upper to lower"
   ]
  },
  {
   "cell_type": "code",
   "execution_count": 28,
   "id": "35de4c9a",
   "metadata": {},
   "outputs": [
    {
     "data": {
      "text/plain": [
       "'  a duck goes into a bar...   '"
      ]
     },
     "execution_count": 28,
     "metadata": {},
     "output_type": "execute_result"
    }
   ],
   "source": [
    "setup.center(30) # centers the string at # value of characters"
   ]
  },
  {
   "cell_type": "code",
   "execution_count": 29,
   "id": "326ebd1b",
   "metadata": {},
   "outputs": [
    {
     "data": {
      "text/plain": [
       "'                                     a duck goes into a bar...                                      '"
      ]
     },
     "execution_count": 29,
     "metadata": {},
     "output_type": "execute_result"
    }
   ],
   "source": [
    "setup.center(100)"
   ]
  },
  {
   "cell_type": "code",
   "execution_count": 31,
   "id": "78103c93",
   "metadata": {},
   "outputs": [
    {
     "data": {
      "text/plain": [
       "'a duck goes into a bar...     '"
      ]
     },
     "execution_count": 31,
     "metadata": {},
     "output_type": "execute_result"
    }
   ],
   "source": [
    "setup.ljust(30)  # will setup a left justified string"
   ]
  },
  {
   "cell_type": "code",
   "execution_count": 32,
   "id": "309016a8",
   "metadata": {},
   "outputs": [
    {
     "data": {
      "text/plain": [
       "'     a duck goes into a bar...'"
      ]
     },
     "execution_count": 32,
     "metadata": {},
     "output_type": "execute_result"
    }
   ],
   "source": [
    "setup.rjust(30)  # will setup a right justified string"
   ]
  },
  {
   "cell_type": "markdown",
   "id": "612fb13a",
   "metadata": {},
   "source": [
    "# Old Style Formatting\n",
    "\n",
    "## Formating \n",
    "### Three ways\n",
    "\n",
    "* Old Style (Python 2+)\n",
    "* New Style (Python 2.6+)\n",
    "* f-string (Python 3.6+)\n",
    "\n",
    "Each way will be discussed seperately, we will start with Old Style\n",
    "\n",
    "format string +%+ data"
   ]
  },
  {
   "cell_type": "code",
   "execution_count": 33,
   "id": "1e0355f2",
   "metadata": {},
   "outputs": [
    {
     "data": {
      "text/plain": [
       "'My favorite team is the Yankees'"
      ]
     },
     "execution_count": 33,
     "metadata": {},
     "output_type": "execute_result"
    }
   ],
   "source": [
    "team = 'Yankees'\n",
    "\n",
    "\"My favorite team is the %s\" % team"
   ]
  },
  {
   "cell_type": "markdown",
   "id": "8fbd79ed",
   "metadata": {},
   "source": [
    "'%s' % 42\n",
    "different options for types\n",
    "* %s = string\n",
    "* %d = basee-10 integer\n",
    "* %x = hex integer\n",
    "* %f = float\n",
    "* %e = exponential float\n",
    "* %% = literal %"
   ]
  },
  {
   "cell_type": "code",
   "execution_count": 34,
   "id": "e26bd9f3",
   "metadata": {},
   "outputs": [
    {
     "name": "stdout",
     "output_type": "stream",
     "text": [
      "2a\n",
      "42\n",
      "2a\n"
     ]
    }
   ],
   "source": [
    "print('%x' % 42)\n",
    "print('%d' % 42)\n",
    "print('%x' % 42)"
   ]
  },
  {
   "cell_type": "code",
   "execution_count": 35,
   "id": "60cc9b7b",
   "metadata": {},
   "outputs": [
    {
     "name": "stdout",
     "output_type": "stream",
     "text": [
      "7.03\n",
      "7.030000\n",
      "7.030000e+00\n"
     ]
    }
   ],
   "source": [
    "print('%s' % 7.03)\n",
    "print('%f' % 7.03)\n",
    "print('%e' % 7.03)"
   ]
  },
  {
   "cell_type": "code",
   "execution_count": 36,
   "id": "9484bb13",
   "metadata": {},
   "outputs": [
    {
     "name": "stdout",
     "output_type": "stream",
     "text": [
      "100%\n"
     ]
    }
   ],
   "source": [
    "print('%d%%' % 100)"
   ]
  },
  {
   "cell_type": "code",
   "execution_count": 37,
   "id": "fe22552b",
   "metadata": {},
   "outputs": [
    {
     "data": {
      "text/plain": [
       "'My favorite team is the 1998 New York Yankees'"
      ]
     },
     "execution_count": 37,
     "metadata": {},
     "output_type": "execute_result"
    }
   ],
   "source": [
    "city = 'New York'\n",
    "year = 1998\n",
    "'My favorite team is the %d %s %s' % (year, city, team)"
   ]
  },
  {
   "cell_type": "markdown",
   "id": "5c8d2a41",
   "metadata": {},
   "source": [
    "Additional options\n",
    "* Alignment character\n",
    "   * '+' means right-align\n",
    "   * '-' means left-align\n",
    "* Minwidth number\n",
    "* Maxchars number\n",
    "* Period to separate minwith and maxchar"
   ]
  },
  {
   "cell_type": "code",
   "execution_count": 39,
   "id": "98e6bdd0",
   "metadata": {},
   "outputs": [
    {
     "name": "stdout",
     "output_type": "stream",
     "text": [
      "Yankees\n",
      "     Yankees\n",
      "Yankees12\n",
      "         Yan\n",
      "Yan         \n"
     ]
    }
   ],
   "source": [
    "print('%s' % team)\n",
    "print('%12s' % team)      # Default is to add spaces to the left of the string to get to desired number (12)\n",
    "print('%s12' % team)      # number must be before conversion type\n",
    "print('%12.3s' % team)    # tells us that we want 12 characters total, but only take the first 3 from the string\n",
    "print('%-12.3s' % team)   # tells us that we want 12 characters but put spaces to the right, and only take first 3 characters of string\n"
   ]
  },
  {
   "cell_type": "markdown",
   "id": "0831ada2",
   "metadata": {},
   "source": [
    "# New Style Formating\n",
    "\n",
    "Old style will continue to be supported, but there are better ways\n",
    "\n",
    "Format: '{format_string}'.format(data)"
   ]
  },
  {
   "cell_type": "code",
   "execution_count": 40,
   "id": "8bac8d23",
   "metadata": {},
   "outputs": [
    {
     "data": {
      "text/plain": [
       "'Yankees'"
      ]
     },
     "execution_count": 40,
     "metadata": {},
     "output_type": "execute_result"
    }
   ],
   "source": [
    "'{}'.format(team)"
   ]
  },
  {
   "cell_type": "code",
   "execution_count": 41,
   "id": "ab381eeb",
   "metadata": {},
   "outputs": [
    {
     "data": {
      "text/plain": [
       "'Myfavorite team is the New York Yankees'"
      ]
     },
     "execution_count": 41,
     "metadata": {},
     "output_type": "execute_result"
    }
   ],
   "source": [
    "'Myfavorite team is the {1} {0}'.format(team, city)"
   ]
  },
  {
   "cell_type": "code",
   "execution_count": 43,
   "id": "3889e3bc",
   "metadata": {},
   "outputs": [
    {
     "data": {
      "text/plain": [
       "'Myfavorite team is the New York Jets'"
      ]
     },
     "execution_count": 43,
     "metadata": {},
     "output_type": "execute_result"
    }
   ],
   "source": [
    "'Myfavorite team is the {city} {team}'.format(team = 'Jets' , city = 'New York')"
   ]
  },
  {
   "cell_type": "markdown",
   "id": "585f6920",
   "metadata": {},
   "source": [
    "Additional options changed slightly\n",
    "\n",
    "* Character fill that adds whitespace padding\n",
    "* Alignment character\n",
    "    * '<' = left\n",
    "    * '>' = right\n",
    "    * '^' = center\n",
    "* Minwidth with period to separate the maxchars, like before"
   ]
  },
  {
   "cell_type": "code",
   "execution_count": 47,
   "id": "1877334b",
   "metadata": {},
   "outputs": [
    {
     "name": "stdout",
     "output_type": "stream",
     "text": [
      "My favorite team is the New York Yankees\n",
      "My favorite team is the New York   Yankees\n",
      "My favorite team is the   New York  YANKEES  \n",
      "My favorite team is the   New York    Yank   \n"
     ]
    }
   ],
   "source": [
    "print('My favorite team is the {} {}'.format(city,team))\n",
    "print('My favorite team is the {:10s} {}'.format(city, team))\n",
    "print('My favorite team is the {:>10s} {:^10s}'.format(city, team.upper()))\n",
    "print('My favorite team is the {:>10s} {:^10.4s}'.format(city, team))"
   ]
  },
  {
   "cell_type": "markdown",
   "id": "1510201e",
   "metadata": {},
   "source": [
    "# f-strings Formating\n",
    "\n",
    "New in 3.6\n",
    "\n",
    "Recommended\n",
    "\n",
    "Formatting: f immediately before string, variable name & expressions inside curly brackets"
   ]
  },
  {
   "cell_type": "code",
   "execution_count": 49,
   "id": "81580cab",
   "metadata": {},
   "outputs": [
    {
     "data": {
      "text/plain": [
       "'My favorite team is the New York Yankees'"
      ]
     },
     "execution_count": 49,
     "metadata": {},
     "output_type": "execute_result"
    }
   ],
   "source": [
    "f'My favorite team is the {city} {team}'"
   ]
  },
  {
   "cell_type": "code",
   "execution_count": 50,
   "id": "c3ea8102",
   "metadata": {},
   "outputs": [
    {
     "data": {
      "text/plain": [
       "'My favorite team is the New York YANKEES'"
      ]
     },
     "execution_count": 50,
     "metadata": {},
     "output_type": "execute_result"
    }
   ],
   "source": [
    "f'My favorite team is the {city} {team.upper()}'"
   ]
  },
  {
   "cell_type": "markdown",
   "id": "b4fd72fc",
   "metadata": {},
   "source": [
    "Notice we don't need .format()"
   ]
  },
  {
   "cell_type": "code",
   "execution_count": 53,
   "id": "b8790b08",
   "metadata": {},
   "outputs": [
    {
     "name": "stdout",
     "output_type": "stream",
     "text": [
      "My favorite team is the New York Yankees\n",
      "My favorite team is the New York   Yankees\n",
      "My favorite team is the   New York YANKEES   \n",
      "My favorite team is the   New York    Yank   \n"
     ]
    }
   ],
   "source": [
    "print(f'My favorite team is the {city} {team}')\n",
    "print(f'My favorite team is the {city:10s} {team}')\n",
    "print(f'My favorite team is the {city:>10s} {team.upper():10s}')\n",
    "print(f'My favorite team is the {city:>10s} {team:^10.4s}')"
   ]
  },
  {
   "cell_type": "markdown",
   "id": "2ba149f9",
   "metadata": {},
   "source": [
    "# Control Structure Overview\n",
    "\n",
    "# Conditionals\n",
    "\n",
    "Very common \n",
    "if else and elseif statements"
   ]
  },
  {
   "cell_type": "code",
   "execution_count": 56,
   "id": "71f15364",
   "metadata": {},
   "outputs": [
    {
     "name": "stdout",
     "output_type": "stream",
     "text": [
      "AAAAAAAHHHHH\n"
     ]
    }
   ],
   "source": [
    "disaster = True\n",
    "if disaster:\n",
    "    print('AAAAAAAHHHHH')\n",
    "else:\n",
    "    print('WHEEEEEE!')"
   ]
  },
  {
   "cell_type": "code",
   "execution_count": 57,
   "id": "8f3a3eaf",
   "metadata": {},
   "outputs": [],
   "source": [
    "# if else example\n",
    "furry = True\n",
    "large = True\n",
    "color = 'mauve'"
   ]
  },
  {
   "cell_type": "code",
   "execution_count": 58,
   "id": "9315b2bb",
   "metadata": {},
   "outputs": [
    {
     "name": "stdout",
     "output_type": "stream",
     "text": [
      "It's a yeti!!!\n"
     ]
    }
   ],
   "source": [
    "# program example 1\n",
    "if furry:\n",
    "    if large:\n",
    "        print(\"It's a yeti!!!\")\n",
    "    else:\n",
    "        print(\"It's a human or a hairless cat\" )\n",
    "else:\n",
    "    if large:\n",
    "        print(\"It's a whle\")\n",
    "    else:\n",
    "        print(\"It's a human or a hairless cat\")"
   ]
  },
  {
   "cell_type": "code",
   "execution_count": 60,
   "id": "e2685a61",
   "metadata": {},
   "outputs": [
    {
     "name": "stdout",
     "output_type": "stream",
     "text": [
      "I've never heard of the color mauve\n"
     ]
    }
   ],
   "source": [
    "if color == 'red':\n",
    "    print(\"It's a tomato\")\n",
    "elif color =='green':\n",
    "    print(\"It's a green pepper\")\n",
    "elif color == 'bee purple':\n",
    "    print(\"I don't know what it is, \\\n",
    "    but only bees can see it\")\n",
    "else:\n",
    "    print(\"I've never heard of the color\" , color)"
   ]
  },
  {
   "cell_type": "markdown",
   "id": "a4cbaa8b",
   "metadata": {},
   "source": [
    "# Walrus Operator\n",
    "\n",
    "Version 3.8\n",
    "\n",
    ":=    <- Walrus Operator\n",
    "\n",
    "reason for it - create a value for the condiditon"
   ]
  },
  {
   "cell_type": "code",
   "execution_count": 61,
   "id": "e2437b63",
   "metadata": {},
   "outputs": [
    {
     "name": "stdout",
     "output_type": "stream",
     "text": [
      "A fitting tweet\n"
     ]
    }
   ],
   "source": [
    "# First up how it used to be done\n",
    "tweet_limit = 280\n",
    "tweet_string = \"Blah\" * 50\n",
    "diff = tweet_limit - len(tweet_string)\n",
    "\n",
    "if diff >= 0:\n",
    "    print(\"A fitting tweet\")\n",
    "else:\n",
    "    print(\"Went over by\", abs(diff))"
   ]
  },
  {
   "cell_type": "code",
   "execution_count": 62,
   "id": "0db47939",
   "metadata": {},
   "outputs": [
    {
     "name": "stdout",
     "output_type": "stream",
     "text": [
      "A fitting tweet\n"
     ]
    }
   ],
   "source": [
    "######## Done using the Walrus Operator\n",
    "tweet_limit = 280\n",
    "tweet_string = \"Blah\" * 50\n",
    "\n",
    "if diff := tweet_limit - len(tweet_string) >=0:\n",
    "        print(\"A fitting tweet\")\n",
    "else:\n",
    "    print(\"Went over by\", abs(diff))"
   ]
  },
  {
   "cell_type": "markdown",
   "id": "406f3c0c",
   "metadata": {},
   "source": [
    "# Control Structure Example\n",
    "\n",
    "Create functions temperature that prints a statement based on these intervals\n",
    "\n",
    "* '>' 90: \"Visit a neighbor\"\n",
    "* 90 >= temp >80: \"Turn on air condidioning\"\n",
    "* 80 >= temp > 70: \"Do nothing\"\n",
    "* 70 >= temp > 60: \"Turn on heat\"\n",
    "* '<' 60: \"Visit a neighbor\""
   ]
  },
  {
   "cell_type": "code",
   "execution_count": 63,
   "id": "d0b42c18",
   "metadata": {},
   "outputs": [
    {
     "name": "stdout",
     "output_type": "stream",
     "text": [
      "Please input the temperature of interest: 101\n",
      "Visit a Neighbor\n"
     ]
    }
   ],
   "source": [
    "def temperature():\n",
    "    temp = float(input('Please input the temperature of interest: '))\n",
    "    \n",
    "    if temp > 90:\n",
    "        print('Visit a Neighbor')\n",
    "    elif temp <=90 and temp > 80:\n",
    "        print(\"Turn on Air Conditionion\")\n",
    "    elif temp <= 80 and temp > 70:\n",
    "        print('Do Nothing')\n",
    "    elif temp <= 70 and temp > 60:\n",
    "        print('Turn on Heater')\n",
    "    else:\n",
    "        print('Visit a Neighbor')\n",
    "\n",
    "temperature()"
   ]
  },
  {
   "cell_type": "code",
   "execution_count": 65,
   "id": "074a775d",
   "metadata": {},
   "outputs": [
    {
     "name": "stdout",
     "output_type": "stream",
     "text": [
      "Please input the temperature of interest: 89\n",
      "Turn on Air Conditionion\n"
     ]
    }
   ],
   "source": [
    "temperature()"
   ]
  },
  {
   "cell_type": "markdown",
   "id": "7b4ef5aa",
   "metadata": {},
   "source": [
    "# Loops Overview\n",
    "\n",
    "for and while loops\n",
    "\n",
    "Best way to learn how to use them is when writing programs in general."
   ]
  },
  {
   "cell_type": "markdown",
   "id": "438271f1",
   "metadata": {},
   "source": [
    "# Loops Review\n",
    "\n",
    "* Loops run pieces of code multiple times\n",
    "* Usually your code runs top to bottom and never goes backwards\n",
    "    * But loops are an exception to that\n",
    "* Two distinct loop types\n",
    "    * For\n",
    "        * run a definate number of times\n",
    "    * While\n",
    "        * run until some condition is satisfied"
   ]
  },
  {
   "cell_type": "code",
   "execution_count": 70,
   "id": "1be00f6b",
   "metadata": {},
   "outputs": [],
   "source": [
    "family = ['Colt', 'Lindsey', 'Johnathon', 'Little Colt','TaylorAnn', 'Evan Colt']"
   ]
  },
  {
   "cell_type": "code",
   "execution_count": 71,
   "id": "b77f78c6",
   "metadata": {},
   "outputs": [
    {
     "name": "stdout",
     "output_type": "stream",
     "text": [
      "Colt\n",
      "Lindsey\n",
      "Johnathon\n",
      "Little Colt\n",
      "TaylorAnn\n",
      "Evan Colt\n"
     ]
    }
   ],
   "source": [
    "for i in family:   # i is the stand in value, could be anything just like a variable in math\n",
    "    print(i)"
   ]
  },
  {
   "cell_type": "code",
   "execution_count": 72,
   "id": "ac3fe771",
   "metadata": {},
   "outputs": [
    {
     "name": "stdout",
     "output_type": "stream",
     "text": [
      "1\n",
      "2\n",
      "3\n",
      "4\n",
      "5\n"
     ]
    }
   ],
   "source": [
    "# While loops will run until some condition is statisfied.  This can be infiniate, if done poorly. \n",
    "a = 1\n",
    "while a <= 5:\n",
    "    print(a)\n",
    "    a+=1"
   ]
  },
  {
   "cell_type": "markdown",
   "id": "14e5a0e2",
   "metadata": {},
   "source": [
    "# Breaks\n",
    "\n"
   ]
  },
  {
   "cell_type": "code",
   "execution_count": 73,
   "id": "b926fe67",
   "metadata": {},
   "outputs": [],
   "source": [
    "classes = ['Pre-Algebra', 'Beg Algebra', 'Interm Algebra', 'College Algebra', 'Statistics', 'Survey of Math', 'Functions and Modeling']"
   ]
  },
  {
   "cell_type": "code",
   "execution_count": 74,
   "id": "0cd93184",
   "metadata": {},
   "outputs": [
    {
     "name": "stdout",
     "output_type": "stream",
     "text": [
      "Colt\n",
      "Lindsey\n",
      "Johnathon\n",
      "Little Colt\n"
     ]
    }
   ],
   "source": [
    "for member in family:\n",
    "    print(member)\n",
    "    if member == \"Little Colt\":\n",
    "        break"
   ]
  },
  {
   "cell_type": "code",
   "execution_count": 79,
   "id": "c3a374d0",
   "metadata": {},
   "outputs": [
    {
     "name": "stdout",
     "output_type": "stream",
     "text": [
      "Colt\n",
      "Pre-Algebra\n",
      "Beg Algebra\n",
      "Interm Algebra\n",
      "College Algebra\n",
      "Statistics\n",
      "Lindsey\n",
      "Pre-Algebra\n",
      "Beg Algebra\n",
      "Interm Algebra\n",
      "College Algebra\n",
      "Statistics\n",
      "Johnathon\n",
      "Pre-Algebra\n",
      "Beg Algebra\n",
      "Interm Algebra\n",
      "College Algebra\n",
      "Statistics\n",
      "Little Colt\n"
     ]
    }
   ],
   "source": [
    "for member in family:\n",
    "    print(member)\n",
    "    if member == 'Little Colt':\n",
    "        break\n",
    "    for subject in classes:\n",
    "        print(subject)\n",
    "        if subject == 'Statistics':\n",
    "            break"
   ]
  },
  {
   "cell_type": "code",
   "execution_count": 87,
   "id": "75d49951",
   "metadata": {},
   "outputs": [
    {
     "name": "stdout",
     "output_type": "stream",
     "text": [
      "Colt\n",
      "Pre-Algebra\n",
      "Beg Algebra\n",
      "Interm Algebra\n",
      "College Algebra\n",
      "Statistics\n"
     ]
    }
   ],
   "source": [
    "# what do you do when you really want to break the loop\n",
    "for i in family:\n",
    "    print(i)\n",
    "    for j in classes:\n",
    "        print(    j)\n",
    "        if j =='Statistics':\n",
    "            break\n",
    "    else: \n",
    "         continue\n",
    "    break"
   ]
  },
  {
   "cell_type": "markdown",
   "id": "8f7cdeaf",
   "metadata": {},
   "source": [
    "# Continue\n",
    "\n",
    "family = ['Colt', 'Lindsey', 'Johnathon', 'Little Colt','TaylorAnn', 'Evan Colt']\n",
    "\n",
    "classes = ['Pre-Algebra', 'Beg Algebra', 'Interm Algebra', 'College Algebra', 'Statistics', 'Survey of Math', 'Functions and Modeling']"
   ]
  },
  {
   "cell_type": "code",
   "execution_count": 88,
   "id": "7cfd83de",
   "metadata": {},
   "outputs": [
    {
     "name": "stdout",
     "output_type": "stream",
     "text": [
      "Colt\n",
      "Lindsey\n",
      "Little Colt\n",
      "TaylorAnn\n",
      "Evan Colt\n"
     ]
    }
   ],
   "source": [
    "for i in family:\n",
    "    if i == 'Johnathon':\n",
    "        continue\n",
    "    print(i)\n",
    "# This program will check to see if it is Johnathon and if so it will skip Johnathon and go to the next interation"
   ]
  },
  {
   "cell_type": "code",
   "execution_count": 89,
   "id": "b1ff64dc",
   "metadata": {},
   "outputs": [
    {
     "name": "stdout",
     "output_type": "stream",
     "text": [
      "Integer, please [ q to quit]:8\n",
      "Integer, please [ q to quit]:7\n",
      "7 squared is 49\n",
      "Integer, please [ q to quit]:8\n",
      "Integer, please [ q to quit]:1\n",
      "1 squared is 1\n",
      "Integer, please [ q to quit]:9\n",
      "9 squared is 81\n",
      "Integer, please [ q to quit]:1563\n",
      "1563 squared is 2442969\n",
      "Integer, please [ q to quit]:q\n"
     ]
    }
   ],
   "source": [
    "while True:\n",
    "    value = input('Integer, please [ q to quit]:')\n",
    "    if value == 'q':\n",
    "        break\n",
    "    number = int(value)\n",
    "    if number % 2 ==0:   # checks for even, if even then it moves to the next number but does not computer the square\n",
    "        continue\n",
    "    print(number, \"squared is\", number*number)"
   ]
  },
  {
   "cell_type": "markdown",
   "id": "43496e7e",
   "metadata": {},
   "source": [
    "# Range\n",
    "\n",
    "Useful function for loops - What it does\n",
    "* returns an sequence of numbers - \n",
    "    * This would help you create a list of numbers to cycle through"
   ]
  },
  {
   "cell_type": "code",
   "execution_count": 90,
   "id": "d5840ed5",
   "metadata": {},
   "outputs": [
    {
     "name": "stdout",
     "output_type": "stream",
     "text": [
      "0\n",
      "1\n",
      "2\n"
     ]
    }
   ],
   "source": [
    "for i in range(0,3):     # goes start value, stop value(not included), interval value\n",
    "    print(i)"
   ]
  },
  {
   "cell_type": "code",
   "execution_count": 91,
   "id": "3f1f0843",
   "metadata": {},
   "outputs": [
    {
     "name": "stdout",
     "output_type": "stream",
     "text": [
      "0\n",
      "5\n",
      "10\n",
      "15\n",
      "20\n",
      "25\n",
      "30\n"
     ]
    }
   ],
   "source": [
    "for i in range(0,35,5):\n",
    "    print(i)"
   ]
  },
  {
   "cell_type": "code",
   "execution_count": 92,
   "id": "47004fe6",
   "metadata": {},
   "outputs": [
    {
     "name": "stdout",
     "output_type": "stream",
     "text": [
      "2\n",
      "1\n",
      "0\n",
      "-1\n",
      "-2\n",
      "-3\n",
      "-4\n",
      "-5\n",
      "-6\n",
      "-7\n",
      "-8\n",
      "-9\n"
     ]
    }
   ],
   "source": [
    "# this can also go negatives\n",
    "for i in range(2,-10,-1):\n",
    "    print(i)"
   ]
  },
  {
   "cell_type": "markdown",
   "id": "6181dc86",
   "metadata": {},
   "source": [
    "# Loop Examples"
   ]
  },
  {
   "cell_type": "markdown",
   "id": "d39e58ee",
   "metadata": {},
   "source": [
    "An acronym is a word formed by taking the first letters of the words in a phrase and making a word from them.  For example, RAM is an acronym for \"random access memory.\"  WWrite a program called acronym that allows the user to type in a phrase and then outputs the acroynm ro4 that phrase.  Note: The acronym shoulde be all uppper case, even if the words in the phrase are not captialized. "
   ]
  },
  {
   "cell_type": "code",
   "execution_count": 93,
   "id": "86a66b98",
   "metadata": {},
   "outputs": [
    {
     "name": "stdout",
     "output_type": "stream",
     "text": [
      "What pharase do you want? first outter inner last\n",
      "FOIL\n"
     ]
    }
   ],
   "source": [
    "def acronym():\n",
    "    target = input('What pharase do you want? ')    # Input the phase you want to make into and acronym\n",
    "    ac = ''\n",
    "    for word in target.split():    #target.split() ----- will split the string into the individual words\n",
    "         ac = ac + word[0]\n",
    "    print(ac.upper())\n",
    "    \n",
    "acronym()"
   ]
  },
  {
   "cell_type": "code",
   "execution_count": 94,
   "id": "1e00dd2a",
   "metadata": {},
   "outputs": [
    {
     "name": "stdout",
     "output_type": "stream",
     "text": [
      "What pharase do you want? parentheses Exponents multiplication division addition subtraction\n",
      "PEMDAS\n"
     ]
    }
   ],
   "source": [
    "acronym()"
   ]
  },
  {
   "cell_type": "markdown",
   "id": "2ff39670",
   "metadata": {},
   "source": [
    "# Quiz Problems "
   ]
  },
  {
   "cell_type": "code",
   "execution_count": 95,
   "id": "17e8c7b2",
   "metadata": {},
   "outputs": [
    {
     "data": {
      "text/plain": [
       "'delp'"
      ]
     },
     "execution_count": 95,
     "metadata": {},
     "output_type": "execute_result"
    }
   ],
   "source": [
    "x = 'philadelphia eagles'\n",
    "x[5:9]"
   ]
  },
  {
   "cell_type": "code",
   "execution_count": 96,
   "id": "e1d6c8f9",
   "metadata": {},
   "outputs": [
    {
     "data": {
      "text/plain": [
       "'t'"
      ]
     },
     "execution_count": 96,
     "metadata": {},
     "output_type": "execute_result"
    }
   ],
   "source": [
    "Eu = 'eastern university'\n",
    "Eu[-2]"
   ]
  },
  {
   "cell_type": "code",
   "execution_count": 101,
   "id": "7d0f1597",
   "metadata": {},
   "outputs": [
    {
     "data": {
      "text/plain": [
       "'or all'"
      ]
     },
     "execution_count": 101,
     "metadata": {},
     "output_type": "execute_result"
    }
   ],
   "source": [
    "y='data science for all'\n",
    "y[14:]"
   ]
  },
  {
   "cell_type": "code",
   "execution_count": 102,
   "id": "3804af44",
   "metadata": {},
   "outputs": [
    {
     "data": {
      "text/plain": [
       "'cie'"
      ]
     },
     "execution_count": 102,
     "metadata": {},
     "output_type": "execute_result"
    }
   ],
   "source": [
    "y = 'data science for all'\n",
    "y[6:9]"
   ]
  },
  {
   "cell_type": "code",
   "execution_count": 103,
   "id": "3b4f8055",
   "metadata": {},
   "outputs": [
    {
     "data": {
      "text/plain": [
       "'e'"
      ]
     },
     "execution_count": 103,
     "metadata": {},
     "output_type": "execute_result"
    }
   ],
   "source": [
    "y = 'data science for all'\n",
    "y[8]"
   ]
  },
  {
   "cell_type": "code",
   "execution_count": 104,
   "id": "709d5de5",
   "metadata": {},
   "outputs": [
    {
     "data": {
      "text/plain": [
       "'hia e'"
      ]
     },
     "execution_count": 104,
     "metadata": {},
     "output_type": "execute_result"
    }
   ],
   "source": [
    "x = 'philadelphia eagles'\n",
    "x[9:14]"
   ]
  },
  {
   "cell_type": "code",
   "execution_count": 108,
   "id": "4f068501",
   "metadata": {},
   "outputs": [
    {
     "ename": "SyntaxError",
     "evalue": "unexpected character after line continuation character (2850553887.py, line 3)",
     "output_type": "error",
     "traceback": [
      "\u001b[1;36m  Input \u001b[1;32mIn [108]\u001b[1;36m\u001b[0m\n\u001b[1;33m    print(hello\\nworld\\nits\\nme)\u001b[0m\n\u001b[1;37m                ^\u001b[0m\n\u001b[1;31mSyntaxError\u001b[0m\u001b[1;31m:\u001b[0m unexpected character after line continuation character\n"
     ]
    }
   ],
   "source": [
    "print('hello\\nworld\\nits\\nme')\n",
    "print('hello/nworld/nits/nme')\n",
    "print(hello\\nworld\\nits\\nme)"
   ]
  },
  {
   "cell_type": "code",
   "execution_count": 110,
   "id": "2c9acca3",
   "metadata": {},
   "outputs": [
    {
     "data": {
      "text/plain": [
       "False"
      ]
     },
     "execution_count": 110,
     "metadata": {},
     "output_type": "execute_result"
    }
   ],
   "source": [
    "'shark' == 'Shark'"
   ]
  },
  {
   "cell_type": "code",
   "execution_count": 111,
   "id": "5ba96512",
   "metadata": {},
   "outputs": [
    {
     "name": "stdout",
     "output_type": "stream",
     "text": [
      "Hello\n"
     ]
    }
   ],
   "source": [
    "print('Hello')"
   ]
  },
  {
   "cell_type": "code",
   "execution_count": 112,
   "id": "90b1c7b5",
   "metadata": {},
   "outputs": [
    {
     "name": "stdout",
     "output_type": "stream",
     "text": [
      "5\n"
     ]
    }
   ],
   "source": [
    "i = 5\n",
    "while i <= 10:\n",
    "    print(i)\n",
    "    i += 10"
   ]
  },
  {
   "cell_type": "code",
   "execution_count": 113,
   "id": "23252ab5",
   "metadata": {},
   "outputs": [
    {
     "name": "stdout",
     "output_type": "stream",
     "text": [
      "Yankees\n",
      "Red Sox\n"
     ]
    }
   ],
   "source": [
    "teams = ['Yankees', 'Red Sox', 'Rays','Blue Jays']\n",
    "for i in teams:\n",
    "    print(i)\n",
    "    if i == 'Red Sox':\n",
    "        break"
   ]
  },
  {
   "cell_type": "code",
   "execution_count": 114,
   "id": "c3d15527",
   "metadata": {},
   "outputs": [
    {
     "name": "stdout",
     "output_type": "stream",
     "text": [
      "Yankees\n",
      "Red Sox\n"
     ]
    }
   ],
   "source": [
    "for i in teams:\n",
    "    if len(i) == 4:\n",
    "        break\n",
    "    print(i)"
   ]
  },
  {
   "cell_type": "code",
   "execution_count": 116,
   "id": "619afac1",
   "metadata": {},
   "outputs": [],
   "source": [
    "for i in range (-2,5):\n",
    "    continue\n",
    "    if i % 2 > 0:\n",
    "        print(i)\n",
    "    if i % 2 < 0:\n",
    "        print(i)"
   ]
  },
  {
   "cell_type": "code",
   "execution_count": null,
   "id": "0960a47e",
   "metadata": {},
   "outputs": [
    {
     "name": "stdout",
     "output_type": "stream",
     "text": [
      "Enter an integer1\n",
      "1\n",
      "Enter an integer2\n",
      "Enter an integer3\n",
      "3\n",
      "Enter an integer4\n",
      "Enter an integer5\n",
      "5\n",
      "Enter an integer6\n",
      "Enter an integer7\n",
      "7\n",
      "Enter an integer8\n",
      "Enter an integer9\n",
      "9\n",
      "Enter an integer10\n"
     ]
    }
   ],
   "source": [
    "while True:\n",
    "    x = eval(input('Enter an integer'))\n",
    "    if x % 2 == 0:\n",
    "        continue\n",
    "    print(x)"
   ]
  },
  {
   "cell_type": "code",
   "execution_count": 1,
   "id": "cc4e7a2c",
   "metadata": {},
   "outputs": [
    {
     "ename": "TypeError",
     "evalue": "unsupported operand type(s) for +: 'int' and 'str'",
     "output_type": "error",
     "traceback": [
      "\u001b[1;31m---------------------------------------------------------------------------\u001b[0m",
      "\u001b[1;31mTypeError\u001b[0m                                 Traceback (most recent call last)",
      "Input \u001b[1;32mIn [1]\u001b[0m, in \u001b[0;36m<cell line: 2>\u001b[1;34m()\u001b[0m\n\u001b[0;32m      1\u001b[0m grades \u001b[38;5;241m=\u001b[39m {\u001b[38;5;124m'\u001b[39m\u001b[38;5;124mBiology\u001b[39m\u001b[38;5;124m'\u001b[39m:\u001b[38;5;241m80\u001b[39m, \u001b[38;5;124m'\u001b[39m\u001b[38;5;124mPhysics\u001b[39m\u001b[38;5;124m'\u001b[39m:\u001b[38;5;241m88\u001b[39m, \u001b[38;5;124m'\u001b[39m\u001b[38;5;124mChemistry\u001b[39m\u001b[38;5;124m'\u001b[39m:\u001b[38;5;241m98\u001b[39m, \u001b[38;5;124m'\u001b[39m\u001b[38;5;124mMath\u001b[39m\u001b[38;5;124m'\u001b[39m:\u001b[38;5;241m89\u001b[39m, \u001b[38;5;124m'\u001b[39m\u001b[38;5;124mEnglish\u001b[39m\u001b[38;5;124m'\u001b[39m:\u001b[38;5;241m79\u001b[39m, \u001b[38;5;124m'\u001b[39m\u001b[38;5;124mMusic\u001b[39m\u001b[38;5;124m'\u001b[39m:\u001b[38;5;241m67\u001b[39m, \u001b[38;5;124m'\u001b[39m\u001b[38;5;124mHisory\u001b[39m\u001b[38;5;124m'\u001b[39m:\u001b[38;5;241m68\u001b[39m,\u001b[38;5;124m'\u001b[39m\u001b[38;5;124mArt\u001b[39m\u001b[38;5;124m'\u001b[39m:\u001b[38;5;241m53\u001b[39m, \u001b[38;5;124m'\u001b[39m\u001b[38;5;124mEconomics\u001b[39m\u001b[38;5;124m'\u001b[39m:\u001b[38;5;241m95\u001b[39m, \u001b[38;5;124m'\u001b[39m\u001b[38;5;124mPsychology\u001b[39m\u001b[38;5;124m'\u001b[39m:\u001b[38;5;241m88\u001b[39m}\n\u001b[1;32m----> 2\u001b[0m \u001b[38;5;28;43msum\u001b[39;49m\u001b[43m(\u001b[49m\u001b[43mgrades\u001b[49m\u001b[43m)\u001b[49m\n",
      "\u001b[1;31mTypeError\u001b[0m: unsupported operand type(s) for +: 'int' and 'str'"
     ]
    }
   ],
   "source": [
    "grades = {'Biology':80, 'Physics':88, 'Chemistry':98, 'Math':89, 'English':79, 'Music':67, 'Hisory':68,'Art':53, 'Economics':95, 'Psychology':88}\n",
    "sum(grades)"
   ]
  },
  {
   "cell_type": "code",
   "execution_count": null,
   "id": "47ca4658",
   "metadata": {},
   "outputs": [],
   "source": []
  }
 ],
 "metadata": {
  "kernelspec": {
   "display_name": "Python 3 (ipykernel)",
   "language": "python",
   "name": "python3"
  },
  "language_info": {
   "codemirror_mode": {
    "name": "ipython",
    "version": 3
   },
   "file_extension": ".py",
   "mimetype": "text/x-python",
   "name": "python",
   "nbconvert_exporter": "python",
   "pygments_lexer": "ipython3",
   "version": "3.9.12"
  }
 },
 "nbformat": 4,
 "nbformat_minor": 5
}
