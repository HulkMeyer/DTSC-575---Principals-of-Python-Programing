{
 "cells": [
  {
   "cell_type": "markdown",
   "id": "97fc2dda",
   "metadata": {},
   "source": [
    "# What are Objects and Classes\n",
    "\n",
    "## What are objects\n",
    "    * Objects are a type of data structure that contain both data and code\n",
    "        * Attributes\n",
    "        * Methods\n",
    "## What is a class\n",
    "    * Class is a mold that creates the boxes that hold objects\n",
    "    * Like a set of instructions for how to create different types of objects, can be thought of as object blueprints."
   ]
  },
  {
   "cell_type": "markdown",
   "id": "361489ef",
   "metadata": {},
   "source": [
    "# Classes and Attributes\n",
    "\n",
    "## Defining a class\n",
    "* defining a simple class that does nothing\n",
    "* define your class using class keywords"
   ]
  },
  {
   "cell_type": "code",
   "execution_count": 2,
   "id": "7d1e9dc1",
   "metadata": {},
   "outputs": [],
   "source": [
    "class Cat():\n",
    "    pass"
   ]
  },
  {
   "cell_type": "code",
   "execution_count": 3,
   "id": "30744831",
   "metadata": {},
   "outputs": [],
   "source": [
    "a_cat = Cat()\n",
    "another_cat = Cat()"
   ]
  },
  {
   "cell_type": "code",
   "execution_count": 4,
   "id": "137911e9",
   "metadata": {},
   "outputs": [
    {
     "data": {
      "text/plain": [
       "<__main__.Cat at 0x269a5845850>"
      ]
     },
     "execution_count": 4,
     "metadata": {},
     "output_type": "execute_result"
    }
   ],
   "source": [
    "a_cat"
   ]
  },
  {
   "cell_type": "markdown",
   "id": "c58d67cc",
   "metadata": {},
   "source": [
    "## Attributes\n",
    "* Attributes: variables inside a class or object"
   ]
  },
  {
   "cell_type": "code",
   "execution_count": 5,
   "id": "2bade31b",
   "metadata": {},
   "outputs": [],
   "source": [
    "a_cat.age=3\n",
    "a_cat.name='Mr.Fuzzybuttons'\n",
    "a_cat.nemesis=another_cat"
   ]
  },
  {
   "cell_type": "code",
   "execution_count": 6,
   "id": "d372ccf5",
   "metadata": {},
   "outputs": [
    {
     "name": "stdout",
     "output_type": "stream",
     "text": [
      "3\n",
      "Mr.Fuzzybuttons\n",
      "<__main__.Cat object at 0x00000269A473DFD0>\n"
     ]
    }
   ],
   "source": [
    "print(a_cat.age)\n",
    "print(a_cat.name)\n",
    "print(a_cat.nemesis)"
   ]
  },
  {
   "cell_type": "code",
   "execution_count": 8,
   "id": "3fd81991",
   "metadata": {},
   "outputs": [],
   "source": [
    "#haven't given the nemesis a name yet\n",
    "a_cat.nemesis.name = 'Mr.Bigglesworth'"
   ]
  },
  {
   "cell_type": "code",
   "execution_count": 9,
   "id": "bcab0a5a",
   "metadata": {},
   "outputs": [
    {
     "data": {
      "text/plain": [
       "'Mr.Bigglesworth'"
      ]
     },
     "execution_count": 9,
     "metadata": {},
     "output_type": "execute_result"
    }
   ],
   "source": [
    "another_cat.name"
   ]
  },
  {
   "cell_type": "markdown",
   "id": "87acf8cd",
   "metadata": {},
   "source": [
    "## Methods\n",
    "* Methods: functions in a class or object"
   ]
  },
  {
   "cell_type": "code",
   "execution_count": 10,
   "id": "243f777a",
   "metadata": {},
   "outputs": [],
   "source": [
    "#Assign attributes with by initializing with __init__():\n",
    "#Yes, those are two underscores, aka 'dunder'\n",
    "\n",
    "class Cat:\n",
    "    def __init__(self):\n",
    "        pass"
   ]
  },
  {
   "cell_type": "markdown",
   "id": "980924ec",
   "metadata": {},
   "source": [
    "When defining __init__() first parameter should be named 'self'\n",
    "\n",
    "We can add additional parameters, too"
   ]
  },
  {
   "cell_type": "code",
   "execution_count": 12,
   "id": "b7e30c92",
   "metadata": {},
   "outputs": [],
   "source": [
    "class Cat():\n",
    "    def __init__(self,name):\n",
    "        self.name = name"
   ]
  },
  {
   "cell_type": "markdown",
   "id": "bb65b7f4",
   "metadata": {},
   "source": [
    "*Inside* our definition, **self.name** is how you access the name attribute"
   ]
  },
  {
   "cell_type": "code",
   "execution_count": 13,
   "id": "bf1d91ca",
   "metadata": {},
   "outputs": [],
   "source": [
    "furball = Cat('Grumpy')"
   ]
  },
  {
   "cell_type": "markdown",
   "id": "e1fb78aa",
   "metadata": {},
   "source": [
    "When we create our object, we use the name to refer to the name attribute"
   ]
  },
  {
   "cell_type": "code",
   "execution_count": 14,
   "id": "56c5b58f",
   "metadata": {},
   "outputs": [
    {
     "data": {
      "text/plain": [
       "'Grumpy'"
      ]
     },
     "execution_count": 14,
     "metadata": {},
     "output_type": "execute_result"
    }
   ],
   "source": [
    "furball.name"
   ]
  },
  {
   "cell_type": "markdown",
   "id": "0c37131e",
   "metadata": {},
   "source": [
    "# Inheritance\n",
    "\n",
    "One of the pillars of object-oriented programming\n",
    "\n",
    "Idea: create a new class from an exsting class\n",
    "\n",
    "Original class called \"parent\", \"superclass\", or \"base class\"\n",
    "\n",
    "New class is called \"child\", \"subclass\", or \"derived class\""
   ]
  },
  {
   "cell_type": "code",
   "execution_count": 15,
   "id": "5fc58f5c",
   "metadata": {},
   "outputs": [],
   "source": [
    "class Car():\n",
    "    pass"
   ]
  },
  {
   "cell_type": "markdown",
   "id": "51903172",
   "metadata": {},
   "source": [
    "Here we have created class **Car** and then create class **Yugo** from **Car**"
   ]
  },
  {
   "cell_type": "code",
   "execution_count": 16,
   "id": "ebbdaaa9",
   "metadata": {},
   "outputs": [],
   "source": [
    "class Yugo(Car):\n",
    "    pass"
   ]
  },
  {
   "cell_type": "markdown",
   "id": "3c6d6fb6",
   "metadata": {},
   "source": [
    "In this example, **Yugo** *is a* **Car**"
   ]
  },
  {
   "cell_type": "code",
   "execution_count": 17,
   "id": "37ff7f56",
   "metadata": {},
   "outputs": [
    {
     "data": {
      "text/plain": [
       "True"
      ]
     },
     "execution_count": 17,
     "metadata": {},
     "output_type": "execute_result"
    }
   ],
   "source": [
    "issubclass(Yugo, Car) # child and then parent"
   ]
  },
  {
   "cell_type": "code",
   "execution_count": 18,
   "id": "a4330e10",
   "metadata": {},
   "outputs": [
    {
     "data": {
      "text/plain": [
       "False"
      ]
     },
     "execution_count": 18,
     "metadata": {},
     "output_type": "execute_result"
    }
   ],
   "source": [
    "issubclass(Car,Yugo) # does not work if you don't put it child and then parent"
   ]
  },
  {
   "cell_type": "code",
   "execution_count": 26,
   "id": "295c856e",
   "metadata": {},
   "outputs": [],
   "source": [
    "class Car():\n",
    "    def exclaim(self):\n",
    "        print(\"I'm a Car!!!\")\n",
    "\n",
    "class Yugo(Car):\n",
    "    pass"
   ]
  },
  {
   "cell_type": "code",
   "execution_count": 27,
   "id": "c010692e",
   "metadata": {
    "scrolled": true
   },
   "outputs": [
    {
     "name": "stdout",
     "output_type": "stream",
     "text": [
      "I'm a Car!!!\n"
     ]
    }
   ],
   "source": [
    "give_me_a_car = Car()\n",
    "give_me_a_yugo = Yugo()\n",
    "give_me_a_car.exclaim()"
   ]
  },
  {
   "cell_type": "code",
   "execution_count": 28,
   "id": "a2e2ab60",
   "metadata": {},
   "outputs": [
    {
     "name": "stdout",
     "output_type": "stream",
     "text": [
      "I'm a Car!!!\n"
     ]
    }
   ],
   "source": [
    "give_me_a_yugo.exclaim()"
   ]
  },
  {
   "cell_type": "markdown",
   "id": "9c210a96",
   "metadata": {},
   "source": [
    "Here, **Yugo** inherits the **exclaim()** method from it's parent, **Car**\n",
    "\n",
    "Why is inheritence important?"
   ]
  },
  {
   "cell_type": "markdown",
   "id": "d9f4081f",
   "metadata": {},
   "source": [
    "# Overriding and Adding Methods\n",
    "\n"
   ]
  },
  {
   "cell_type": "code",
   "execution_count": 29,
   "id": "b1094e4a",
   "metadata": {},
   "outputs": [],
   "source": [
    "class Car():\n",
    "    def exclaim(self):\n",
    "        print(\"I'm a Car!!!\")\n",
    "\n",
    "class Yugo(Car):\n",
    "    def exclaim(self):\n",
    "        print(\"I'm a Yugo!!!\")"
   ]
  },
  {
   "cell_type": "code",
   "execution_count": 30,
   "id": "3aaa8720",
   "metadata": {},
   "outputs": [],
   "source": [
    "give_me_a_car = Car()\n",
    "give_me_a_yugo = Yugo()"
   ]
  },
  {
   "cell_type": "code",
   "execution_count": 31,
   "id": "e42f8543",
   "metadata": {},
   "outputs": [
    {
     "name": "stdout",
     "output_type": "stream",
     "text": [
      "I'm a Car!!!\n"
     ]
    }
   ],
   "source": [
    "give_me_a_car.exclaim()"
   ]
  },
  {
   "cell_type": "code",
   "execution_count": 32,
   "id": "b5335866",
   "metadata": {},
   "outputs": [
    {
     "name": "stdout",
     "output_type": "stream",
     "text": [
      "I'm a Yugo!!!\n"
     ]
    }
   ],
   "source": [
    "give_me_a_yugo.exclaim()"
   ]
  },
  {
   "cell_type": "code",
   "execution_count": 42,
   "id": "e785b841",
   "metadata": {},
   "outputs": [],
   "source": [
    "# Creating a parent class with multiple children \n",
    "class Person():\n",
    "    def __init__(self, name):\n",
    "        self.name = name\n",
    "class MDPerson(Person):\n",
    "    def __init__(self, name):\n",
    "        self.name = \"Doctor \" + name\n",
    "class JDPerson(Person):\n",
    "    def __init__(self, name):\n",
    "        self.name = name + \", Esquire\""
   ]
  },
  {
   "cell_type": "code",
   "execution_count": 43,
   "id": "2789a9c9",
   "metadata": {},
   "outputs": [],
   "source": [
    "person = Person('Fudd')\n",
    "doctor = MDPerson('Fudd')\n",
    "lawyer = JDPerson('Fudd')"
   ]
  },
  {
   "cell_type": "code",
   "execution_count": 44,
   "id": "31e14539",
   "metadata": {},
   "outputs": [
    {
     "name": "stdout",
     "output_type": "stream",
     "text": [
      "Fudd\n",
      "Doctor Fudd\n",
      "Fudd, Esquire\n"
     ]
    }
   ],
   "source": [
    "print(person.name + \"\\n\" + doctor.name + \"\\n\" + lawyer.name)"
   ]
  },
  {
   "cell_type": "markdown",
   "id": "ff7f089f",
   "metadata": {},
   "source": [
    "## Adding a method"
   ]
  },
  {
   "cell_type": "code",
   "execution_count": 45,
   "id": "c4a20446",
   "metadata": {},
   "outputs": [],
   "source": [
    "class Car():\n",
    "    def exclaim(self):\n",
    "        print(\"I'm a Car!!!\")\n",
    "\n",
    "class Yugo(Car):\n",
    "    def exclaim(self):\n",
    "        print(\"I'm a Yugo!!!\")\n",
    "    def need_a_push(self):\n",
    "        print(\"A little help here?\")"
   ]
  },
  {
   "cell_type": "code",
   "execution_count": 46,
   "id": "5ba9617e",
   "metadata": {},
   "outputs": [],
   "source": [
    "my_car = Car()\n",
    "my_yugo = Yugo()"
   ]
  },
  {
   "cell_type": "code",
   "execution_count": 47,
   "id": "986bf6aa",
   "metadata": {},
   "outputs": [
    {
     "name": "stdout",
     "output_type": "stream",
     "text": [
      "I'm a Car!!!\n"
     ]
    }
   ],
   "source": [
    "my_car.exclaim()"
   ]
  },
  {
   "cell_type": "code",
   "execution_count": 48,
   "id": "a2efbbda",
   "metadata": {},
   "outputs": [
    {
     "name": "stdout",
     "output_type": "stream",
     "text": [
      "I'm a Yugo!!!\n"
     ]
    }
   ],
   "source": [
    "my_yugo.exclaim()"
   ]
  },
  {
   "cell_type": "code",
   "execution_count": 49,
   "id": "7b8259da",
   "metadata": {},
   "outputs": [
    {
     "name": "stdout",
     "output_type": "stream",
     "text": [
      "A little help here?\n"
     ]
    }
   ],
   "source": [
    "my_yugo.need_a_push()"
   ]
  },
  {
   "cell_type": "code",
   "execution_count": 50,
   "id": "3c8f9354",
   "metadata": {},
   "outputs": [
    {
     "ename": "AttributeError",
     "evalue": "'Car' object has no attribute 'need_a_push'",
     "output_type": "error",
     "traceback": [
      "\u001b[1;31m---------------------------------------------------------------------------\u001b[0m",
      "\u001b[1;31mAttributeError\u001b[0m                            Traceback (most recent call last)",
      "Input \u001b[1;32mIn [50]\u001b[0m, in \u001b[0;36m<cell line: 1>\u001b[1;34m()\u001b[0m\n\u001b[1;32m----> 1\u001b[0m \u001b[43mmy_car\u001b[49m\u001b[38;5;241;43m.\u001b[39;49m\u001b[43mneed_a_push\u001b[49m()\n",
      "\u001b[1;31mAttributeError\u001b[0m: 'Car' object has no attribute 'need_a_push'"
     ]
    }
   ],
   "source": [
    "my_car.need_a_push()   # doesn't exist"
   ]
  },
  {
   "cell_type": "markdown",
   "id": "555dd15c",
   "metadata": {},
   "source": [
    "It is important to note that methods and attributes are passed down from parent to child.  Not back up from child to parent.  "
   ]
  },
  {
   "cell_type": "markdown",
   "id": "3a02db11",
   "metadata": {},
   "source": [
    "# Parent and Multiple Inheritance"
   ]
  },
  {
   "cell_type": "markdown",
   "id": "0ebd56a1",
   "metadata": {},
   "source": [
    "## Using parent methods"
   ]
  },
  {
   "cell_type": "code",
   "execution_count": 51,
   "id": "c947de18",
   "metadata": {},
   "outputs": [],
   "source": [
    "class Person():\n",
    "    def __init__(self, name):\n",
    "        self.name = name"
   ]
  },
  {
   "cell_type": "code",
   "execution_count": 54,
   "id": "dfa5d5e9",
   "metadata": {},
   "outputs": [],
   "source": [
    "class EmailPerson(Person):\n",
    "    def __init__(self,name,email):\n",
    "        super().__init__(name)   #super signals that we are referencing the __init__(name) attributes from the Person(parent) class\n",
    "        self.email = email"
   ]
  },
  {
   "cell_type": "code",
   "execution_count": 55,
   "id": "6d0237f8",
   "metadata": {},
   "outputs": [],
   "source": [
    "bob = EmailPerson('Bob Frapples', 'bob@frapples.com')"
   ]
  },
  {
   "cell_type": "code",
   "execution_count": 56,
   "id": "c7406060",
   "metadata": {},
   "outputs": [
    {
     "data": {
      "text/plain": [
       "'Bob Frapples'"
      ]
     },
     "execution_count": 56,
     "metadata": {},
     "output_type": "execute_result"
    }
   ],
   "source": [
    "bob.name"
   ]
  },
  {
   "cell_type": "code",
   "execution_count": 57,
   "id": "919f316a",
   "metadata": {},
   "outputs": [
    {
     "data": {
      "text/plain": [
       "'bob@frapples.com'"
      ]
     },
     "execution_count": 57,
     "metadata": {},
     "output_type": "execute_result"
    }
   ],
   "source": [
    "bob.email"
   ]
  },
  {
   "cell_type": "markdown",
   "id": "4261503f",
   "metadata": {},
   "source": [
    "We don't define name in the way we did with **Parent()** - instead, we sue **super()**\n",
    "\n",
    "# Multiple Inheritance\n",
    "\n",
    "A child class can inherit from multiple parent classes"
   ]
  },
  {
   "cell_type": "code",
   "execution_count": 58,
   "id": "9b3ca2a5",
   "metadata": {},
   "outputs": [],
   "source": [
    "class Animal():\n",
    "    def says(self):\n",
    "        return 'I speak!'\n",
    "class Horse(Animal):\n",
    "    def says(self):\n",
    "        return 'Neigh!'\n",
    "class Donkey(Animal):\n",
    "    def says(self):\n",
    "        return 'Hee-haw!'\n"
   ]
  },
  {
   "cell_type": "code",
   "execution_count": 59,
   "id": "92cefbec",
   "metadata": {},
   "outputs": [],
   "source": [
    "class Mule(Donkey, Horse):\n",
    "    pass\n",
    "class Hinny(Horse, Donkey):\n",
    "    pass"
   ]
  },
  {
   "cell_type": "code",
   "execution_count": 61,
   "id": "09f12445",
   "metadata": {},
   "outputs": [
    {
     "data": {
      "text/plain": [
       "[__main__.Mule, __main__.Donkey, __main__.Horse, __main__.Animal, object]"
      ]
     },
     "execution_count": 61,
     "metadata": {},
     "output_type": "execute_result"
    }
   ],
   "source": [
    "Mule.mro()   #mro function will show us how to trace the classes inheritance"
   ]
  },
  {
   "cell_type": "code",
   "execution_count": 62,
   "id": "356fce7e",
   "metadata": {},
   "outputs": [
    {
     "data": {
      "text/plain": [
       "[__main__.Hinny, __main__.Horse, __main__.Donkey, __main__.Animal, object]"
      ]
     },
     "execution_count": 62,
     "metadata": {},
     "output_type": "execute_result"
    }
   ],
   "source": [
    "Hinny.mro()"
   ]
  },
  {
   "cell_type": "code",
   "execution_count": 63,
   "id": "ae71bb57",
   "metadata": {},
   "outputs": [],
   "source": [
    "mule = Mule()\n",
    "hinny = Hinny()"
   ]
  },
  {
   "cell_type": "code",
   "execution_count": 64,
   "id": "c964cbd5",
   "metadata": {},
   "outputs": [
    {
     "name": "stdout",
     "output_type": "stream",
     "text": [
      "Hee-haw!\n",
      "Neigh!\n"
     ]
    }
   ],
   "source": [
    "print(mule.says())\n",
    "print(hinny.says())"
   ]
  },
  {
   "cell_type": "code",
   "execution_count": 65,
   "id": "40465ab7",
   "metadata": {},
   "outputs": [],
   "source": [
    "# straight vertical heirarchy\n",
    "class Car():\n",
    "    def exclaim(self):\n",
    "        print(\"I'm a Car!!!\")\n",
    "class Hybrid(Car):\n",
    "    def exclaim(self):\n",
    "        print(\"I'm a Hybrid!!!\")\n",
    "class Prius(Hybrid):\n",
    "    def exclaim(self):\n",
    "        print(\"I'm a Prius!!!\")"
   ]
  },
  {
   "cell_type": "code",
   "execution_count": 66,
   "id": "1693a516",
   "metadata": {},
   "outputs": [
    {
     "data": {
      "text/plain": [
       "[__main__.Prius, __main__.Hybrid, __main__.Car, object]"
      ]
     },
     "execution_count": 66,
     "metadata": {},
     "output_type": "execute_result"
    }
   ],
   "source": [
    "Prius.mro()"
   ]
  },
  {
   "cell_type": "markdown",
   "id": "a2fb262e",
   "metadata": {},
   "source": [
    "# Attributes, Getters, and Setters\n",
    "\n",
    "## Attribute access\n",
    "\n",
    "* Encapsulation: Keeping attributes and methods self-contained, restriciting accessability from outside\n",
    "    * Internal machinations are hidden from the outside\n",
    "* Python not as strict - generally attributes are more accessabile than other languages\n",
    "* Remember: We have attributes (member attributes) and methods (member functions)\n",
    "* Attributes are generally directly accessible"
   ]
  },
  {
   "cell_type": "code",
   "execution_count": 68,
   "id": "f0dcf1a7",
   "metadata": {},
   "outputs": [],
   "source": [
    "class Duck():\n",
    "    def __init__(self, input_name):\n",
    "        self.name = input_name\n",
    "        \n",
    "fowl = Duck('Daffy')"
   ]
  },
  {
   "cell_type": "code",
   "execution_count": 69,
   "id": "1625a746",
   "metadata": {},
   "outputs": [
    {
     "data": {
      "text/plain": [
       "'Daffy'"
      ]
     },
     "execution_count": 69,
     "metadata": {},
     "output_type": "execute_result"
    }
   ],
   "source": [
    "fowl.name"
   ]
  },
  {
   "cell_type": "markdown",
   "id": "c915c045",
   "metadata": {},
   "source": [
    "In Python, you can directly change this, unlike some other languages"
   ]
  },
  {
   "cell_type": "code",
   "execution_count": 70,
   "id": "7e3d5e2e",
   "metadata": {},
   "outputs": [
    {
     "data": {
      "text/plain": [
       "'Daphne'"
      ]
     },
     "execution_count": 70,
     "metadata": {},
     "output_type": "execute_result"
    }
   ],
   "source": [
    "fowl.name ='Daphne'\n",
    "fowl.name"
   ]
  },
  {
   "cell_type": "markdown",
   "id": "f4c909e4",
   "metadata": {},
   "source": [
    "## Getters and Setters\n",
    "\n",
    "* The two types of methods: Getters & Setters\n",
    "    * Accessors/Mutators\n",
    "* Getters: Go and get values of attributes\n",
    "    * They do not change the state of the object\n",
    "* Setters: change the state of the object"
   ]
  },
  {
   "cell_type": "code",
   "execution_count": 75,
   "id": "fd0a66d1",
   "metadata": {},
   "outputs": [],
   "source": [
    "class Duck():\n",
    "    def __init__(self, input_name):\n",
    "        self.hidden_name = input_name\n",
    "    def get_name(self):\n",
    "        print('inside the getter')\n",
    "        return self.hidden_name\n",
    "    def set_name(self, input_name):\n",
    "        print('inside the setter')\n",
    "        self.hidden_name = input_name"
   ]
  },
  {
   "cell_type": "code",
   "execution_count": 76,
   "id": "a08139f1",
   "metadata": {},
   "outputs": [
    {
     "name": "stdout",
     "output_type": "stream",
     "text": [
      "inside the getter\n"
     ]
    },
    {
     "data": {
      "text/plain": [
       "'Donald'"
      ]
     },
     "execution_count": 76,
     "metadata": {},
     "output_type": "execute_result"
    }
   ],
   "source": [
    "don = Duck('Donald')\n",
    "don.get_name()"
   ]
  },
  {
   "cell_type": "code",
   "execution_count": 77,
   "id": "73fa97a0",
   "metadata": {},
   "outputs": [
    {
     "name": "stdout",
     "output_type": "stream",
     "text": [
      "inside the setter\n"
     ]
    }
   ],
   "source": [
    "don.set_name('Donna')"
   ]
  },
  {
   "cell_type": "code",
   "execution_count": 78,
   "id": "d7def042",
   "metadata": {},
   "outputs": [
    {
     "name": "stdout",
     "output_type": "stream",
     "text": [
      "inside the getter\n"
     ]
    },
    {
     "data": {
      "text/plain": [
       "'Donna'"
      ]
     },
     "execution_count": 78,
     "metadata": {},
     "output_type": "execute_result"
    }
   ],
   "source": [
    "don.get_name()"
   ]
  },
  {
   "cell_type": "markdown",
   "id": "9213c006",
   "metadata": {},
   "source": [
    "Instead of using **get_name()** and **set_name()** separately, we can be more Pythonic by using property()"
   ]
  },
  {
   "cell_type": "code",
   "execution_count": 85,
   "id": "a1594349",
   "metadata": {},
   "outputs": [],
   "source": [
    "class Duck():\n",
    "    def __init__(self, input_name):\n",
    "        self.hidden_name = input_name\n",
    "    def get_name(self):\n",
    "        print('inside the getter')\n",
    "        return self.hidden_name\n",
    "    def set_name(self, input_name):\n",
    "        print('inside the setter')\n",
    "        self.hidden_name = input_name\n",
    "    name = property(get_name, set_name) # allows python to identify the function that you are using based on what you are doing"
   ]
  },
  {
   "cell_type": "code",
   "execution_count": 86,
   "id": "c935882e",
   "metadata": {},
   "outputs": [
    {
     "name": "stdout",
     "output_type": "stream",
     "text": [
      "inside the getter\n"
     ]
    },
    {
     "data": {
      "text/plain": [
       "'Donald'"
      ]
     },
     "execution_count": 86,
     "metadata": {},
     "output_type": "execute_result"
    }
   ],
   "source": [
    "don = Duck('Donald')\n",
    "don.name"
   ]
  },
  {
   "cell_type": "code",
   "execution_count": 87,
   "id": "6039293f",
   "metadata": {},
   "outputs": [
    {
     "name": "stdout",
     "output_type": "stream",
     "text": [
      "inside the setter\n"
     ]
    }
   ],
   "source": [
    "don.name = 'Donna'"
   ]
  },
  {
   "cell_type": "code",
   "execution_count": 84,
   "id": "02fb4169",
   "metadata": {},
   "outputs": [
    {
     "name": "stdout",
     "output_type": "stream",
     "text": [
      "inside the getter\n"
     ]
    },
    {
     "data": {
      "text/plain": [
       "'Donna'"
      ]
     },
     "execution_count": 84,
     "metadata": {},
     "output_type": "execute_result"
    }
   ],
   "source": [
    "don.name"
   ]
  },
  {
   "cell_type": "code",
   "execution_count": 88,
   "id": "69418571",
   "metadata": {},
   "outputs": [
    {
     "ename": "NameError",
     "evalue": "name 'name' is not defined",
     "output_type": "error",
     "traceback": [
      "\u001b[1;31m---------------------------------------------------------------------------\u001b[0m",
      "\u001b[1;31mNameError\u001b[0m                                 Traceback (most recent call last)",
      "Input \u001b[1;32mIn [88]\u001b[0m, in \u001b[0;36m<cell line: 1>\u001b[1;34m()\u001b[0m\n\u001b[1;32m----> 1\u001b[0m \u001b[38;5;28;01mclass\u001b[39;00m \u001b[38;5;21;01mDuck\u001b[39;00m():\n\u001b[0;32m      2\u001b[0m     \u001b[38;5;28;01mdef\u001b[39;00m \u001b[38;5;21m__init__\u001b[39m(\u001b[38;5;28mself\u001b[39m, input_name):\n\u001b[0;32m      3\u001b[0m         \u001b[38;5;28mself\u001b[39m\u001b[38;5;241m.\u001b[39mhidden_name \u001b[38;5;241m=\u001b[39m input_name\n",
      "Input \u001b[1;32mIn [88]\u001b[0m, in \u001b[0;36mDuck\u001b[1;34m()\u001b[0m\n\u001b[0;32m      6\u001b[0m     \u001b[38;5;28mprint\u001b[39m(\u001b[38;5;124m'\u001b[39m\u001b[38;5;124minside the getter\u001b[39m\u001b[38;5;124m'\u001b[39m)\n\u001b[0;32m      7\u001b[0m     \u001b[38;5;28;01mreturn\u001b[39;00m \u001b[38;5;28mself\u001b[39m\u001b[38;5;241m.\u001b[39mhidden_name\n\u001b[1;32m----> 8\u001b[0m \u001b[38;5;129m@name\u001b[39m\u001b[38;5;241m.\u001b[39msetter\n\u001b[0;32m      9\u001b[0m \u001b[38;5;28;01mdef\u001b[39;00m \u001b[38;5;21mset_name\u001b[39m(\u001b[38;5;28mself\u001b[39m, input_name):\n\u001b[0;32m     10\u001b[0m     \u001b[38;5;28mprint\u001b[39m(\u001b[38;5;124m'\u001b[39m\u001b[38;5;124minside the setter\u001b[39m\u001b[38;5;124m'\u001b[39m)\n\u001b[0;32m     11\u001b[0m     \u001b[38;5;28mself\u001b[39m\u001b[38;5;241m.\u001b[39mhidden_name \u001b[38;5;241m=\u001b[39m input_name\n",
      "\u001b[1;31mNameError\u001b[0m: name 'name' is not defined"
     ]
    }
   ],
   "source": [
    "# The following is similar, but more decorative\n",
    "class Duck():\n",
    "    def __init__(self, input_name):\n",
    "        self.hidden_name = input_name\n",
    "    @property\n",
    "    def get_name(self):\n",
    "        print('inside the getter')\n",
    "        return self.hidden_name\n",
    "    @name.setter\n",
    "    def set_name(self, input_name):\n",
    "        print('inside the setter')\n",
    "        self.hidden_name = input_name\n",
    "    name = property(get_name, set_name)"
   ]
  },
  {
   "cell_type": "code",
   "execution_count": 89,
   "id": "e8aa7c1c",
   "metadata": {},
   "outputs": [],
   "source": [
    "fowl = Duck('Howard')"
   ]
  },
  {
   "cell_type": "code",
   "execution_count": 90,
   "id": "41b17859",
   "metadata": {},
   "outputs": [
    {
     "name": "stdout",
     "output_type": "stream",
     "text": [
      "inside the getter\n"
     ]
    },
    {
     "data": {
      "text/plain": [
       "'Howard'"
      ]
     },
     "execution_count": 90,
     "metadata": {},
     "output_type": "execute_result"
    }
   ],
   "source": [
    "fowl.name"
   ]
  },
  {
   "cell_type": "code",
   "execution_count": 91,
   "id": "12e6dc08",
   "metadata": {},
   "outputs": [
    {
     "name": "stdout",
     "output_type": "stream",
     "text": [
      "inside the setter\n"
     ]
    }
   ],
   "source": [
    "fowl.name = 'Donald'"
   ]
  },
  {
   "cell_type": "code",
   "execution_count": 92,
   "id": "904a3a3d",
   "metadata": {},
   "outputs": [
    {
     "data": {
      "text/plain": [
       "'Donald'"
      ]
     },
     "execution_count": 92,
     "metadata": {},
     "output_type": "execute_result"
    }
   ],
   "source": [
    "fowl.hidden_name"
   ]
  },
  {
   "cell_type": "markdown",
   "id": "496c31fe",
   "metadata": {},
   "source": [
    "# Object Oriented Programming (OOP)\n",
    "## Four Fundamental Features of OOP\n",
    "* Inheritance - We can create classes from old classes, and the new ones inherent aspects of the old ones\n",
    "* Encapsulation - Objects contain data and functions\n",
    "* Polymorphism - What an object does when there is a method call depends on the class of the object\n",
    "                * Example from Zelle's Python Programming: An Introduction to Computer Science\n",
    "                    * the idea  that you would have a function and it would work across different classes\n",
    "* Abstraction - We remove unnecessary details, allowing the user to focus on only what is necessary\n",
    "                * Whe we create an object, there's alot more going on behind the scenes"
   ]
  },
  {
   "cell_type": "markdown",
   "id": "797d8678",
   "metadata": {},
   "source": [
    "# Object-Oriented Wrap UP\n",
    "\n"
   ]
  },
  {
   "cell_type": "markdown",
   "id": "71a8cdd2",
   "metadata": {},
   "source": [
    "# Quiz Problems"
   ]
  },
  {
   "cell_type": "code",
   "execution_count": 95,
   "id": "a2b6a8c3",
   "metadata": {},
   "outputs": [
    {
     "name": "stdout",
     "output_type": "stream",
     "text": [
      "I have a cow named Bessie\n"
     ]
    }
   ],
   "source": [
    "class Cow:\n",
    "    def __init__(self, name, age, weight):\n",
    "        self.name = name\n",
    "        self.age = age\n",
    "        self.weight = weight\n",
    "class Holstein(Cow):\n",
    "    pass\n",
    "\n",
    "Bessie = Holstein('Bessie', 8, 1800)\n",
    "print(f'I have a cow named {Bessie.name}')"
   ]
  },
  {
   "cell_type": "code",
   "execution_count": 96,
   "id": "5e0a0a66",
   "metadata": {},
   "outputs": [
    {
     "data": {
      "text/plain": [
       "False"
      ]
     },
     "execution_count": 96,
     "metadata": {},
     "output_type": "execute_result"
    }
   ],
   "source": [
    "class Cow:\n",
    "    def speak(self):\n",
    "        print('Mooo')\n",
    "    def eat(self):\n",
    "        print('Yum')\n",
    "        \n",
    "class Holstein(Cow):\n",
    "    def talk(self):\n",
    "        super().speak()\n",
    "        \n",
    "issubclass(Cow,Holstein)"
   ]
  },
  {
   "cell_type": "code",
   "execution_count": null,
   "id": "01cea7b1",
   "metadata": {},
   "outputs": [],
   "source": []
  },
  {
   "cell_type": "code",
   "execution_count": null,
   "id": "5e612ecb",
   "metadata": {},
   "outputs": [],
   "source": []
  },
  {
   "cell_type": "code",
   "execution_count": null,
   "id": "bc12323d",
   "metadata": {},
   "outputs": [],
   "source": []
  },
  {
   "cell_type": "code",
   "execution_count": null,
   "id": "da8653c6",
   "metadata": {},
   "outputs": [],
   "source": []
  },
  {
   "cell_type": "code",
   "execution_count": null,
   "id": "9cbfb100",
   "metadata": {},
   "outputs": [],
   "source": []
  },
  {
   "cell_type": "code",
   "execution_count": null,
   "id": "76e76507",
   "metadata": {},
   "outputs": [],
   "source": []
  },
  {
   "cell_type": "code",
   "execution_count": null,
   "id": "713d16cd",
   "metadata": {},
   "outputs": [],
   "source": []
  }
 ],
 "metadata": {
  "kernelspec": {
   "display_name": "Python 3 (ipykernel)",
   "language": "python",
   "name": "python3"
  },
  "language_info": {
   "codemirror_mode": {
    "name": "ipython",
    "version": 3
   },
   "file_extension": ".py",
   "mimetype": "text/x-python",
   "name": "python",
   "nbconvert_exporter": "python",
   "pygments_lexer": "ipython3",
   "version": "3.9.12"
  }
 },
 "nbformat": 4,
 "nbformat_minor": 5
}
