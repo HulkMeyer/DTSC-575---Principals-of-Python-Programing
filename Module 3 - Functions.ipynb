{
 "cells": [
  {
   "cell_type": "markdown",
   "id": "1c5796fb",
   "metadata": {},
   "source": [
    "# Functions Overview"
   ]
  },
  {
   "cell_type": "markdown",
   "id": "9bce47bb",
   "metadata": {},
   "source": [
    "# Programs Disclaimer"
   ]
  },
  {
   "cell_type": "markdown",
   "id": "9ae8169a",
   "metadata": {},
   "source": [
    "# Functions Review\n",
    "\n",
    "* A function is a piece of code that takes an input parameter and returns results\n",
    "\n",
    "## Defining Functions\n",
    "* def"
   ]
  },
  {
   "cell_type": "code",
   "execution_count": 1,
   "id": "32624b8e",
   "metadata": {},
   "outputs": [],
   "source": [
    "def do_nothing():\n",
    "    pass"
   ]
  },
  {
   "cell_type": "code",
   "execution_count": 2,
   "id": "182311d9",
   "metadata": {},
   "outputs": [],
   "source": [
    "do_nothing()"
   ]
  },
  {
   "cell_type": "code",
   "execution_count": 3,
   "id": "913ef38d",
   "metadata": {},
   "outputs": [],
   "source": [
    "def hello():\n",
    "    print('Hello World')"
   ]
  },
  {
   "cell_type": "code",
   "execution_count": 4,
   "id": "3df33fa5",
   "metadata": {},
   "outputs": [
    {
     "name": "stdout",
     "output_type": "stream",
     "text": [
      "Hello World\n"
     ]
    }
   ],
   "source": [
    "hello()"
   ]
  },
  {
   "cell_type": "code",
   "execution_count": 5,
   "id": "805fe93b",
   "metadata": {},
   "outputs": [],
   "source": [
    "def echo(anything):\n",
    "    return anything + \" \" + anything"
   ]
  },
  {
   "cell_type": "code",
   "execution_count": 6,
   "id": "ebe9fa30",
   "metadata": {},
   "outputs": [
    {
     "data": {
      "text/plain": [
       "'hello hello'"
      ]
     },
     "execution_count": 6,
     "metadata": {},
     "output_type": "execute_result"
    }
   ],
   "source": [
    "echo('hello')"
   ]
  },
  {
   "cell_type": "markdown",
   "id": "8f43d549",
   "metadata": {},
   "source": [
    "what every you put inside the paretheses is called the arguement\n",
    "* in the echo program 'hello' that we passed to the function was the arguement\n",
    "* when we built the program anything was the parameter\n",
    "\n"
   ]
  },
  {
   "cell_type": "code",
   "execution_count": 8,
   "id": "1a3b4d6e",
   "metadata": {},
   "outputs": [],
   "source": [
    "def commentary(color):  # color is the parameter\n",
    "    if color == 'red':\n",
    "        return \"It's a tomato.\"\n",
    "    elif color == 'green':\n",
    "        return \"It's a green pepper.\"\n",
    "    elif color == 'bee purple':\n",
    "        return \"I don't know what it is, but only bees can see it.\"\n",
    "    else:\n",
    "        return f\"I've never heard of the color {color}.\""
   ]
  },
  {
   "cell_type": "code",
   "execution_count": 10,
   "id": "eb5a3bdd",
   "metadata": {},
   "outputs": [
    {
     "data": {
      "text/plain": [
       "\"I've never heard of the color brown.\""
      ]
     },
     "execution_count": 10,
     "metadata": {},
     "output_type": "execute_result"
    }
   ],
   "source": [
    "commentary('brown') # brown is an arguement - whatever color we put in is an arguement"
   ]
  },
  {
   "cell_type": "code",
   "execution_count": 11,
   "id": "3b2602b7",
   "metadata": {},
   "outputs": [
    {
     "data": {
      "text/plain": [
       "\"It's a tomato.\""
      ]
     },
     "execution_count": 11,
     "metadata": {},
     "output_type": "execute_result"
    }
   ],
   "source": [
    "commentary('red')"
   ]
  },
  {
   "cell_type": "markdown",
   "id": "c22fb1f0",
   "metadata": {},
   "source": [
    "# None"
   ]
  },
  {
   "cell_type": "code",
   "execution_count": 12,
   "id": "cababce0",
   "metadata": {},
   "outputs": [],
   "source": [
    "def whatis(thing):\n",
    "    if thing is None:\n",
    "        print(thing, 'is None')\n",
    "    elif thing:\n",
    "        print(thing, 'is True')\n",
    "    else:\n",
    "        print(thing, 'is False')"
   ]
  },
  {
   "cell_type": "code",
   "execution_count": 13,
   "id": "ceee7217",
   "metadata": {},
   "outputs": [
    {
     "name": "stdout",
     "output_type": "stream",
     "text": [
      "None is None\n"
     ]
    }
   ],
   "source": [
    "whatis(None)"
   ]
  },
  {
   "cell_type": "code",
   "execution_count": 14,
   "id": "1fbcb7fe",
   "metadata": {},
   "outputs": [
    {
     "name": "stdout",
     "output_type": "stream",
     "text": [
      "False is False\n"
     ]
    }
   ],
   "source": [
    "whatis(False)"
   ]
  },
  {
   "cell_type": "code",
   "execution_count": 15,
   "id": "9f20de95",
   "metadata": {},
   "outputs": [
    {
     "name": "stdout",
     "output_type": "stream",
     "text": [
      "0 is False\n"
     ]
    }
   ],
   "source": [
    "whatis(0)"
   ]
  },
  {
   "cell_type": "code",
   "execution_count": 16,
   "id": "d626df5d",
   "metadata": {},
   "outputs": [
    {
     "name": "stdout",
     "output_type": "stream",
     "text": [
      " is False\n"
     ]
    }
   ],
   "source": [
    "whatis('')"
   ]
  },
  {
   "cell_type": "code",
   "execution_count": 17,
   "id": "7d48a98d",
   "metadata": {},
   "outputs": [
    {
     "name": "stdout",
     "output_type": "stream",
     "text": [
      "[] is False\n"
     ]
    }
   ],
   "source": [
    "whatis([])"
   ]
  },
  {
   "cell_type": "code",
   "execution_count": 18,
   "id": "d6716983",
   "metadata": {},
   "outputs": [
    {
     "name": "stdout",
     "output_type": "stream",
     "text": [
      "7 is True\n"
     ]
    }
   ],
   "source": [
    "whatis(7)"
   ]
  },
  {
   "cell_type": "markdown",
   "id": "36bbd4f0",
   "metadata": {},
   "source": [
    "# Arguements and Parameters"
   ]
  },
  {
   "cell_type": "code",
   "execution_count": 19,
   "id": "add2ebb5",
   "metadata": {},
   "outputs": [],
   "source": [
    "def menu(wine, entree, dessert):\n",
    "    return{'wine':wine, 'entree':entree, 'dessert':dessert}"
   ]
  },
  {
   "cell_type": "code",
   "execution_count": 21,
   "id": "81b6d798",
   "metadata": {},
   "outputs": [
    {
     "data": {
      "text/plain": [
       "{'wine': 'riesling', 'entree': 'chicken', 'dessert': 'cake'}"
      ]
     },
     "execution_count": 21,
     "metadata": {},
     "output_type": "execute_result"
    }
   ],
   "source": [
    "menu('riesling','chicken','cake')"
   ]
  },
  {
   "cell_type": "code",
   "execution_count": 22,
   "id": "cd4a91da",
   "metadata": {},
   "outputs": [
    {
     "data": {
      "text/plain": [
       "{'wine': 'chicken', 'entree': 'cake', 'dessert': 'merlot'}"
      ]
     },
     "execution_count": 22,
     "metadata": {},
     "output_type": "execute_result"
    }
   ],
   "source": [
    "menu('chicken','cake','merlot')"
   ]
  },
  {
   "cell_type": "markdown",
   "id": "27cd8268",
   "metadata": {},
   "source": [
    "Why didn't it work the second time???\n",
    "* because these are positional arguements.  meaning the first item will always be wine, the second will always be entree, and so on. \n",
    "* We can eliminate this with key word arguements --->"
   ]
  },
  {
   "cell_type": "code",
   "execution_count": null,
   "id": "a09c9327",
   "metadata": {},
   "outputs": [],
   "source": [
    "#keyword arguements\n",
    "menu(entree='chicken', dessert='cake', wine='merlot')"
   ]
  },
  {
   "cell_type": "markdown",
   "id": "1c00956a",
   "metadata": {},
   "source": [
    "Now, even though the order is wrong it still pairs correctly with our original function pairings. \n",
    "\n",
    "A similar issue, we can create default parameters"
   ]
  },
  {
   "cell_type": "code",
   "execution_count": 26,
   "id": "9a333865",
   "metadata": {},
   "outputs": [],
   "source": [
    "def menu2(wine, entree, dessert = 'cake'):\n",
    "    return{'wine':wine, 'entree':entree, 'dessert':dessert}"
   ]
  },
  {
   "cell_type": "code",
   "execution_count": 27,
   "id": "f14546b8",
   "metadata": {},
   "outputs": [
    {
     "data": {
      "text/plain": [
       "{'wine': 'riesling', 'entree': 'hot dog', 'dessert': 'cake'}"
      ]
     },
     "execution_count": 27,
     "metadata": {},
     "output_type": "execute_result"
    }
   ],
   "source": [
    "menu2('riesling','hot dog')"
   ]
  },
  {
   "cell_type": "code",
   "execution_count": 28,
   "id": "82450680",
   "metadata": {},
   "outputs": [
    {
     "data": {
      "text/plain": [
       "{'wine': 'riesling', 'entree': 'hot dog', 'dessert': 'cookies'}"
      ]
     },
     "execution_count": 28,
     "metadata": {},
     "output_type": "execute_result"
    }
   ],
   "source": [
    "menu2('riesling','hot dog', 'cookies')"
   ]
  },
  {
   "cell_type": "code",
   "execution_count": 29,
   "id": "a7faf577",
   "metadata": {},
   "outputs": [
    {
     "ename": "TypeError",
     "evalue": "menu2() missing 1 required positional argument: 'entree'",
     "output_type": "error",
     "traceback": [
      "\u001b[1;31m---------------------------------------------------------------------------\u001b[0m",
      "\u001b[1;31mTypeError\u001b[0m                                 Traceback (most recent call last)",
      "Input \u001b[1;32mIn [29]\u001b[0m, in \u001b[0;36m<cell line: 1>\u001b[1;34m()\u001b[0m\n\u001b[1;32m----> 1\u001b[0m \u001b[43mmenu2\u001b[49m\u001b[43m(\u001b[49m\u001b[38;5;124;43m'\u001b[39;49m\u001b[38;5;124;43mcookies\u001b[39;49m\u001b[38;5;124;43m'\u001b[39;49m\u001b[43m)\u001b[49m\n",
      "\u001b[1;31mTypeError\u001b[0m: menu2() missing 1 required positional argument: 'entree'"
     ]
    }
   ],
   "source": [
    "menu2('cookies')"
   ]
  },
  {
   "cell_type": "markdown",
   "id": "c428bfc5",
   "metadata": {},
   "source": [
    "# Exploding and Gathering"
   ]
  },
  {
   "cell_type": "code",
   "execution_count": 30,
   "id": "83adf905",
   "metadata": {},
   "outputs": [],
   "source": [
    "def print_args(*args):\n",
    "    print(args)"
   ]
  },
  {
   "cell_type": "code",
   "execution_count": 31,
   "id": "8cfe9c5e",
   "metadata": {},
   "outputs": [
    {
     "name": "stdout",
     "output_type": "stream",
     "text": [
      "()\n"
     ]
    }
   ],
   "source": [
    "print_args()"
   ]
  },
  {
   "cell_type": "code",
   "execution_count": 33,
   "id": "b40bd524",
   "metadata": {},
   "outputs": [
    {
     "name": "stdout",
     "output_type": "stream",
     "text": [
      "(1, 2, 3, 4, 5, 6, 7, 8, 'wood', 5.4837645837)\n"
     ]
    }
   ],
   "source": [
    "print_args(1,2,3,4,5,6,7,8,'wood',5.4837645837,)"
   ]
  },
  {
   "cell_type": "code",
   "execution_count": 36,
   "id": "646c8004",
   "metadata": {},
   "outputs": [],
   "source": [
    "def print_args2(req1, req2, *args):\n",
    "    print('Required: ', req1)\n",
    "    print('Required also: ', req2)\n",
    "    print('All the rest ', args)"
   ]
  },
  {
   "cell_type": "code",
   "execution_count": 41,
   "id": "0316ed27",
   "metadata": {},
   "outputs": [
    {
     "name": "stdout",
     "output_type": "stream",
     "text": [
      "Required:  $1s\n",
      "Required also:  strippers\n",
      "All the rest  (56, 5432.55432, 'chicken', 'veggies')\n"
     ]
    }
   ],
   "source": [
    "print_args2('$1s', 'strippers', 56,5432.55432, 'chicken', 'veggies')"
   ]
  },
  {
   "cell_type": "code",
   "execution_count": 42,
   "id": "7d5544c1",
   "metadata": {},
   "outputs": [],
   "source": [
    "def print_kwargs(**kwargs):\n",
    "    print(kwargs)"
   ]
  },
  {
   "cell_type": "code",
   "execution_count": 43,
   "id": "52ffa7fe",
   "metadata": {},
   "outputs": [
    {
     "name": "stdout",
     "output_type": "stream",
     "text": [
      "{'wine': 'riesling', 'entree': 'chicken', 'dessert': 'cake'}\n"
     ]
    }
   ],
   "source": [
    "print_kwargs(wine='riesling', entree = 'chicken',dessert='cake')"
   ]
  },
  {
   "cell_type": "markdown",
   "id": "1b202cdb",
   "metadata": {},
   "source": [
    "# Keyword and Mutable Arguments\n"
   ]
  },
  {
   "cell_type": "code",
   "execution_count": 52,
   "id": "9c4be5d1",
   "metadata": {},
   "outputs": [],
   "source": [
    " def print_data(data, *, start, end):\n",
    "        for i in (data[start:end]):\n",
    "            print(i)"
   ]
  },
  {
   "cell_type": "code",
   "execution_count": 53,
   "id": "621ed30e",
   "metadata": {},
   "outputs": [],
   "source": [
    "# using a prebuilt list from module 2\n",
    "family = ['Colt', 'Lindsey', 'Johnathon', 'Little Colt','TaylorAnn', 'Evan Colt']\n",
    "\n",
    "classes = ['Pre-Algebra', 'Beg Algebra', 'Interm Algebra', 'College Algebra', 'Statistics', 'Survey of Math', 'Functions and Modeling']"
   ]
  },
  {
   "cell_type": "code",
   "execution_count": 54,
   "id": "7e22b0c1",
   "metadata": {},
   "outputs": [
    {
     "data": {
      "text/plain": [
       "['Colt', 'Lindsey', 'Johnathon', 'Little Colt', 'TaylorAnn', 'Evan Colt']"
      ]
     },
     "execution_count": 54,
     "metadata": {},
     "output_type": "execute_result"
    }
   ],
   "source": [
    "family"
   ]
  },
  {
   "cell_type": "code",
   "execution_count": 55,
   "id": "5a9073c6",
   "metadata": {},
   "outputs": [
    {
     "ename": "TypeError",
     "evalue": "print_data() takes 1 positional argument but 3 were given",
     "output_type": "error",
     "traceback": [
      "\u001b[1;31m---------------------------------------------------------------------------\u001b[0m",
      "\u001b[1;31mTypeError\u001b[0m                                 Traceback (most recent call last)",
      "Input \u001b[1;32mIn [55]\u001b[0m, in \u001b[0;36m<cell line: 1>\u001b[1;34m()\u001b[0m\n\u001b[1;32m----> 1\u001b[0m \u001b[43mprint_data\u001b[49m\u001b[43m(\u001b[49m\u001b[43mfamily\u001b[49m\u001b[43m,\u001b[49m\u001b[38;5;241;43m0\u001b[39;49m\u001b[43m,\u001b[49m\u001b[38;5;241;43m4\u001b[39;49m\u001b[43m)\u001b[49m\n",
      "\u001b[1;31mTypeError\u001b[0m: print_data() takes 1 positional argument but 3 were given"
     ]
    }
   ],
   "source": [
    "print_data(family,0,4)"
   ]
  },
  {
   "cell_type": "code",
   "execution_count": 56,
   "id": "b7a435ed",
   "metadata": {},
   "outputs": [
    {
     "name": "stdout",
     "output_type": "stream",
     "text": [
      "Johnathon\n",
      "Little Colt\n"
     ]
    }
   ],
   "source": [
    "print_data(family, start = 2, end = 4)"
   ]
  },
  {
   "cell_type": "code",
   "execution_count": 57,
   "id": "424e2b2a",
   "metadata": {},
   "outputs": [],
   "source": [
    "outside = ['one','fine','day']\n",
    "\n",
    "def mangle(arg):\n",
    "    arg[1] = 'terrible'"
   ]
  },
  {
   "cell_type": "code",
   "execution_count": 58,
   "id": "45ec6f8d",
   "metadata": {},
   "outputs": [],
   "source": [
    "mangle(outside)"
   ]
  },
  {
   "cell_type": "code",
   "execution_count": 59,
   "id": "a6950bd1",
   "metadata": {},
   "outputs": [
    {
     "data": {
      "text/plain": [
       "['one', 'terrible', 'day']"
      ]
     },
     "execution_count": 59,
     "metadata": {},
     "output_type": "execute_result"
    }
   ],
   "source": [
    "outside"
   ]
  },
  {
   "cell_type": "markdown",
   "id": "6f8c88ea",
   "metadata": {},
   "source": [
    "this is an example of something that we need to look out for, since the arguement was mutable the program permenately changed the outside[1] parameter to terrible.  \n",
    "We could give this using a return statement or changing the function in some way so that it is not a permenate change. "
   ]
  },
  {
   "cell_type": "markdown",
   "id": "adbbe9d1",
   "metadata": {},
   "source": [
    "# DocStrings"
   ]
  },
  {
   "cell_type": "code",
   "execution_count": 60,
   "id": "7df4f758",
   "metadata": {},
   "outputs": [],
   "source": [
    "def addup(x,y):\n",
    "    '''add arguments and return sum'''     # this is the docstring\n",
    "    \n",
    "    return x+y"
   ]
  },
  {
   "cell_type": "markdown",
   "id": "364686d8",
   "metadata": {},
   "source": [
    "docstrings are statments that show up when you use the help function for a docstring\n",
    "\n",
    "doctrings are usually writtien in PEP8 style\n",
    "* PEP8 can be found at the address below\n",
    "    * https://www.python.org/dev/peps/\n",
    "* Docstrings use triple quotes, even if its a one-line docstring\n",
    "* There is no black line before or after the docstring\n",
    "* The phrase ends with a period\n",
    "* Do not reiterate the function/method parameters\n",
    "\n",
    "For multi-line docstrings\n",
    "* Have a one-line summary docstring\n",
    "* Followed by a blank line\n",
    "* followed by a more elaborate description\n",
    "\n",
    "So below we put the above into the correct format"
   ]
  },
  {
   "cell_type": "code",
   "execution_count": 61,
   "id": "67310c56",
   "metadata": {},
   "outputs": [],
   "source": [
    "def addup(x,y):\n",
    "    '''add arguments and return sum'''     # this is the docstring\n",
    "    return x+y"
   ]
  },
  {
   "cell_type": "markdown",
   "id": "03ffa6c6",
   "metadata": {},
   "source": [
    "# Lambda\n",
    "\n",
    "lambda what is does, it substitutes for something that we can already do.  \n",
    "\n",
    "Its definations is an anonymous function expressed as a single statement.  that you can use instead of a single tiny function"
   ]
  },
  {
   "cell_type": "code",
   "execution_count": 62,
   "id": "e8389ace",
   "metadata": {},
   "outputs": [],
   "source": [
    "def addup(x,y):\n",
    "    return x+y"
   ]
  },
  {
   "cell_type": "code",
   "execution_count": 64,
   "id": "323a10e3",
   "metadata": {},
   "outputs": [],
   "source": [
    "outcome = addup(3,4)"
   ]
  },
  {
   "cell_type": "code",
   "execution_count": 65,
   "id": "ee2aa213",
   "metadata": {},
   "outputs": [
    {
     "name": "stdout",
     "output_type": "stream",
     "text": [
      "7\n"
     ]
    }
   ],
   "source": [
    "print(outcome)"
   ]
  },
  {
   "cell_type": "code",
   "execution_count": 66,
   "id": "15e35e90",
   "metadata": {},
   "outputs": [],
   "source": [
    "func = lambda x,y: x+y"
   ]
  },
  {
   "cell_type": "markdown",
   "id": "35a6ebc7",
   "metadata": {},
   "source": [
    "lambda isn't a name, so we must assign it"
   ]
  },
  {
   "cell_type": "code",
   "execution_count": 68,
   "id": "e5da6a91",
   "metadata": {},
   "outputs": [],
   "source": [
    "outcome = func(4,5)"
   ]
  },
  {
   "cell_type": "code",
   "execution_count": 69,
   "id": "d5b888d4",
   "metadata": {},
   "outputs": [
    {
     "name": "stdout",
     "output_type": "stream",
     "text": [
      "9\n"
     ]
    }
   ],
   "source": [
    "print(outcome)"
   ]
  },
  {
   "cell_type": "code",
   "execution_count": 74,
   "id": "d6cae324",
   "metadata": {},
   "outputs": [],
   "source": [
    "def edit_story(words, func):\n",
    "    for word in words:\n",
    "        print(func(word))"
   ]
  },
  {
   "cell_type": "code",
   "execution_count": 71,
   "id": "855d103b",
   "metadata": {},
   "outputs": [],
   "source": [
    "def enliven(word):\n",
    "    return word.capitalize() + '!'"
   ]
  },
  {
   "cell_type": "code",
   "execution_count": 72,
   "id": "aaa5202f",
   "metadata": {},
   "outputs": [],
   "source": [
    "stairs = ['thud','meow','thud','hiss']"
   ]
  },
  {
   "cell_type": "code",
   "execution_count": 75,
   "id": "51d5ab82",
   "metadata": {},
   "outputs": [
    {
     "name": "stdout",
     "output_type": "stream",
     "text": [
      "Thud!\n",
      "Meow!\n",
      "Thud!\n",
      "Hiss!\n"
     ]
    }
   ],
   "source": [
    "edit_story(stairs, enliven)"
   ]
  },
  {
   "cell_type": "code",
   "execution_count": 77,
   "id": "69621c41",
   "metadata": {},
   "outputs": [
    {
     "name": "stdout",
     "output_type": "stream",
     "text": [
      "Thud!\n",
      "Meow!\n",
      "Thud!\n",
      "Hiss!\n"
     ]
    }
   ],
   "source": [
    "# now same thing using lambda\n",
    "edit_story(stairs, lambda word: word.capitalize() + '!')"
   ]
  },
  {
   "cell_type": "markdown",
   "id": "1ab16f27",
   "metadata": {},
   "source": [
    "### Bigger Example"
   ]
  },
  {
   "cell_type": "code",
   "execution_count": 79,
   "id": "4a439d78",
   "metadata": {},
   "outputs": [],
   "source": [
    "family = ['Christopher Colt', 'Lindsey Cheri', 'Johnathon Dean', 'Colt Nelson','TaylorAnn Paige', 'Evan Colt']"
   ]
  },
  {
   "cell_type": "code",
   "execution_count": 80,
   "id": "05999246",
   "metadata": {},
   "outputs": [],
   "source": [
    "family.sort(key = lambda x: x.split(' ')[-1].lower())"
   ]
  },
  {
   "cell_type": "code",
   "execution_count": 81,
   "id": "6ca14834",
   "metadata": {},
   "outputs": [
    {
     "data": {
      "text/plain": [
       "['Lindsey Cheri',\n",
       " 'Christopher Colt',\n",
       " 'Evan Colt',\n",
       " 'Johnathon Dean',\n",
       " 'Colt Nelson',\n",
       " 'TaylorAnn Paige']"
      ]
     },
     "execution_count": 81,
     "metadata": {},
     "output_type": "execute_result"
    }
   ],
   "source": [
    "family"
   ]
  },
  {
   "cell_type": "markdown",
   "id": "eaa937a5",
   "metadata": {},
   "source": [
    "Would be very useful if you needed to include simple functions into larger functions or it could help limit the number of functions that you need to create. "
   ]
  },
  {
   "cell_type": "markdown",
   "id": "99dfcec7",
   "metadata": {},
   "source": [
    "# Decorators\n",
    "\n",
    "A function that takes one function as input and returns another function"
   ]
  },
  {
   "cell_type": "code",
   "execution_count": 87,
   "id": "89475a14",
   "metadata": {},
   "outputs": [],
   "source": [
    "def document_it(func):\n",
    "    def new_function(*args, **kwargs):\n",
    "        print('Running function: ', func.__name__)\n",
    "        print('Positional arguements: ', args)\n",
    "        print('Keyword arguments: ', kwargs)\n",
    "        result = func(*args, **kwargs)\n",
    "        print('Result: ', result)\n",
    "        return result\n",
    "    return new_function"
   ]
  },
  {
   "cell_type": "code",
   "execution_count": 88,
   "id": "805c8db8",
   "metadata": {},
   "outputs": [],
   "source": [
    "def add_ints(x,y):\n",
    "    return x+y"
   ]
  },
  {
   "cell_type": "code",
   "execution_count": 89,
   "id": "b5da862f",
   "metadata": {},
   "outputs": [],
   "source": [
    "decorated_add = document_it(add_ints)"
   ]
  },
  {
   "cell_type": "code",
   "execution_count": 90,
   "id": "1973b3ae",
   "metadata": {},
   "outputs": [
    {
     "name": "stdout",
     "output_type": "stream",
     "text": [
      "Running function:  add_ints\n",
      "Positional arguements:  (3, 5)\n",
      "Keyword arguments:  {}\n",
      "Result:  8\n"
     ]
    },
    {
     "data": {
      "text/plain": [
       "8"
      ]
     },
     "execution_count": 90,
     "metadata": {},
     "output_type": "execute_result"
    }
   ],
   "source": [
    "decorated_add(3,5)"
   ]
  },
  {
   "cell_type": "code",
   "execution_count": 91,
   "id": "610e086c",
   "metadata": {},
   "outputs": [],
   "source": [
    "# what decorators will look like in code\n",
    "@document_it                 #this is a decorator\n",
    "def add_ints2(a,b):\n",
    "    return a+b"
   ]
  },
  {
   "cell_type": "code",
   "execution_count": 93,
   "id": "066b68ae",
   "metadata": {},
   "outputs": [
    {
     "name": "stdout",
     "output_type": "stream",
     "text": [
      "Running function:  add_ints2\n",
      "Positional arguements:  (3, 5)\n",
      "Keyword arguments:  {}\n",
      "Result:  8\n"
     ]
    },
    {
     "data": {
      "text/plain": [
       "8"
      ]
     },
     "execution_count": 93,
     "metadata": {},
     "output_type": "execute_result"
    }
   ],
   "source": [
    "add_ints2(3,5)"
   ]
  },
  {
   "cell_type": "code",
   "execution_count": 94,
   "id": "58b5cd13",
   "metadata": {},
   "outputs": [],
   "source": [
    "def square_it(func):\n",
    "    def new_function(*args,**kwargs):\n",
    "        result = func(*args, **kwargs)\n",
    "        return result * result\n",
    "    return new_function"
   ]
  },
  {
   "cell_type": "code",
   "execution_count": 95,
   "id": "34c3f636",
   "metadata": {},
   "outputs": [],
   "source": [
    "@document_it\n",
    "@square_it\n",
    "def add_ints3(a, b):\n",
    "    return a + b"
   ]
  },
  {
   "cell_type": "code",
   "execution_count": 96,
   "id": "4e55db8b",
   "metadata": {},
   "outputs": [
    {
     "name": "stdout",
     "output_type": "stream",
     "text": [
      "Running function:  new_function\n",
      "Positional arguements:  (3, 5)\n",
      "Keyword arguments:  {}\n",
      "Result:  64\n"
     ]
    },
    {
     "data": {
      "text/plain": [
       "64"
      ]
     },
     "execution_count": 96,
     "metadata": {},
     "output_type": "execute_result"
    }
   ],
   "source": [
    "add_ints3(3,5)"
   ]
  },
  {
   "cell_type": "code",
   "execution_count": 97,
   "id": "1e9618cb",
   "metadata": {},
   "outputs": [],
   "source": [
    "def test(a,b):\n",
    "    return a-b"
   ]
  },
  {
   "cell_type": "markdown",
   "id": "b7a35390",
   "metadata": {},
   "source": [
    "# Exceptions\n",
    "\n",
    "Exceptions: code that is executed when associated error occurs\n",
    "\n",
    "Good to add exception handlers for potential errors, especially where you expect they might occur"
   ]
  },
  {
   "cell_type": "code",
   "execution_count": 98,
   "id": "e6c158a8",
   "metadata": {},
   "outputs": [],
   "source": [
    "short_list = [1,2,3]\n",
    "position = 5"
   ]
  },
  {
   "cell_type": "code",
   "execution_count": 99,
   "id": "ddb9472c",
   "metadata": {},
   "outputs": [
    {
     "name": "stdout",
     "output_type": "stream",
     "text": [
      "Need a position between 0 and 2 but got 5\n"
     ]
    }
   ],
   "source": [
    "try:\n",
    "    short_list[position]\n",
    "except:\n",
    "    print('Need a position between 0 and', len(short_list)-1, 'but got', position)"
   ]
  },
  {
   "cell_type": "markdown",
   "id": "d419a490",
   "metadata": {},
   "source": [
    "This is a \"catchall\" exception - it works for all\n",
    "\n",
    "But they can be more specific\n",
    "\n",
    "except exceptiontype as name"
   ]
  },
  {
   "cell_type": "code",
   "execution_count": 100,
   "id": "4c4d32a7",
   "metadata": {},
   "outputs": [
    {
     "name": "stdout",
     "output_type": "stream",
     "text": [
      "Position [q to quit]?9\n",
      "Bad index: 9\n",
      "Position [q to quit]?5\n",
      "Bad index: 5\n",
      "Position [q to quit]?\n",
      "Something else broke: invalid literal for int() with base 10: ''\n",
      "Position [q to quit]?fda\n",
      "Something else broke: invalid literal for int() with base 10: 'fda'\n",
      "Position [q to quit]?q\n"
     ]
    }
   ],
   "source": [
    "while True:\n",
    "    value = input('Position [q to quit]?')\n",
    "    if value == 'q':\n",
    "        break\n",
    "    try:\n",
    "        position = int(value)\n",
    "        print(short_list[position])\n",
    "    except IndexError as err:\n",
    "        print('Bad index:', position)\n",
    "    except Exception as other:\n",
    "        print('Something else broke:', other)\n"
   ]
  },
  {
   "cell_type": "markdown",
   "id": "6919bc5a",
   "metadata": {},
   "source": [
    "# Month Abbreviation\n",
    "\n"
   ]
  },
  {
   "cell_type": "code",
   "execution_count": null,
   "id": "852e440c",
   "metadata": {},
   "outputs": [],
   "source": [
    "def main():\n",
    "    num = int(input(\"What number abbreviation do you want?\"))\n",
    "    months = ['JAN','FEB','MAR','APR','MAY','JUN','JUL','AUG','SEP','OCT','NOV','DEC']\n",
    "    print(months[num-1])"
   ]
  },
  {
   "cell_type": "markdown",
   "id": "ccfe1965",
   "metadata": {},
   "source": [
    "# Test Questions"
   ]
  },
  {
   "cell_type": "code",
   "execution_count": null,
   "id": "0c4b2263",
   "metadata": {},
   "outputs": [],
   "source": [
    "def fruit(color):\n",
    "    if color == 'red':\n",
    "        print('strawberry')\n",
    "    if color == 'green':\n",
    "        print('kiwi')\n",
    "    if color == 'yellow':\n",
    "        print('banana')"
   ]
  },
  {
   "cell_type": "code",
   "execution_count": null,
   "id": "67b31061",
   "metadata": {},
   "outputs": [],
   "source": [
    "fruit('red')"
   ]
  },
  {
   "cell_type": "code",
   "execution_count": null,
   "id": "f00876ef",
   "metadata": {},
   "outputs": [],
   "source": []
  },
  {
   "cell_type": "code",
   "execution_count": null,
   "id": "39aa06c4",
   "metadata": {},
   "outputs": [],
   "source": []
  },
  {
   "cell_type": "code",
   "execution_count": null,
   "id": "9d2c14ae",
   "metadata": {},
   "outputs": [],
   "source": []
  },
  {
   "cell_type": "code",
   "execution_count": null,
   "id": "c340e43a",
   "metadata": {},
   "outputs": [],
   "source": []
  },
  {
   "cell_type": "code",
   "execution_count": null,
   "id": "2abf98cc",
   "metadata": {},
   "outputs": [],
   "source": []
  },
  {
   "cell_type": "code",
   "execution_count": null,
   "id": "c17702b6",
   "metadata": {},
   "outputs": [],
   "source": []
  }
 ],
 "metadata": {
  "kernelspec": {
   "display_name": "Python 3 (ipykernel)",
   "language": "python",
   "name": "python3"
  },
  "language_info": {
   "codemirror_mode": {
    "name": "ipython",
    "version": 3
   },
   "file_extension": ".py",
   "mimetype": "text/x-python",
   "name": "python",
   "nbconvert_exporter": "python",
   "pygments_lexer": "ipython3",
   "version": "3.9.12"
  }
 },
 "nbformat": 4,
 "nbformat_minor": 5
}
