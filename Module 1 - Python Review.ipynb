{
 "cells": [
  {
   "cell_type": "markdown",
   "id": "1426e8e8",
   "metadata": {},
   "source": [
    "# Python Review Overview\n",
    "\n",
    "Nothing added from this video\n"
   ]
  },
  {
   "cell_type": "markdown",
   "id": "c8b25fb7",
   "metadata": {},
   "source": [
    "# Data Are Objects\n",
    "\n",
    "Pages 23 - 24\n",
    "\n",
    "All objects contain 4 things\n",
    "* 1.) Type - Int, Boolean, String\n",
    "* 2.) Unique I.D. - Primary key\n",
    "* 3.) Value - \n",
    "* 4.) Reference Count - how often is it referenced\n"
   ]
  },
  {
   "cell_type": "markdown",
   "id": "afedefae",
   "metadata": {},
   "source": [
    "# Data Types\n",
    "\n",
    "* Table on page 25 of text\n",
    "    * Not going to talk about complex numbers\n"
   ]
  },
  {
   "cell_type": "markdown",
   "id": "95a736c9",
   "metadata": {},
   "source": [
    "# Mutability\n",
    "\n",
    "Page 25\n",
    "\n",
    "Even if an object is mutable, you will not be able to change its data type"
   ]
  },
  {
   "cell_type": "markdown",
   "id": "cdf2b5a9",
   "metadata": {},
   "source": [
    "# Literals and Variables Review\n",
    "\n",
    "Pages 26 - 29\n",
    "\n",
    "4 things to understand\n",
    "\n",
    "* Difference between literals and variables\n",
    "* What variable names can and cannot begin with and what they can and cannnot conatin\n",
    "* What reserved words are used in Python, * Butyou don't have to have them all memorized.\n",
    "* How to Assign Values\n",
    "\n",
    "\n"
   ]
  },
  {
   "cell_type": "markdown",
   "id": "1d9b0436",
   "metadata": {},
   "source": [
    "# Variable Names and Places\n",
    "\n",
    "* Python is dynamically typed as opposed to statically typed like C++ or C#\n",
    "* Variables in Python are just names or a way to reference the variable as opposed to its location or its data type. "
   ]
  },
  {
   "cell_type": "code",
   "execution_count": 1,
   "id": "3bf9bb5f",
   "metadata": {},
   "outputs": [
    {
     "name": "stdout",
     "output_type": "stream",
     "text": [
      "7\n"
     ]
    }
   ],
   "source": [
    "a=7\n",
    "print(a)"
   ]
  },
  {
   "cell_type": "code",
   "execution_count": 2,
   "id": "695e19f4",
   "metadata": {},
   "outputs": [
    {
     "name": "stdout",
     "output_type": "stream",
     "text": [
      "7\n"
     ]
    }
   ],
   "source": [
    "b = a\n",
    "print(b)"
   ]
  },
  {
   "cell_type": "code",
   "execution_count": 3,
   "id": "39e1793f",
   "metadata": {},
   "outputs": [
    {
     "data": {
      "text/plain": [
       "10"
      ]
     },
     "execution_count": 3,
     "metadata": {},
     "output_type": "execute_result"
    }
   ],
   "source": [
    "b+3"
   ]
  },
  {
   "cell_type": "code",
   "execution_count": 4,
   "id": "a2d73e14",
   "metadata": {},
   "outputs": [
    {
     "data": {
      "text/plain": [
       "10"
      ]
     },
     "execution_count": 4,
     "metadata": {},
     "output_type": "execute_result"
    }
   ],
   "source": [
    "a=8\n",
    "b+3"
   ]
  },
  {
   "cell_type": "markdown",
   "id": "39bec1ed",
   "metadata": {},
   "source": [
    "In simple terms we started by labeling the value 7 as a, then also labeled it as b.  So 7 is labeled both a and b.  When we added 3 to b we got 10, but after we labeled 8 as a, we were removing the label a from 7 and putting it on 8.  But it left the label b on 7, this is why the secodn b+3 still equaled 10 and not 11. "
   ]
  },
  {
   "cell_type": "code",
   "execution_count": 5,
   "id": "c0620827",
   "metadata": {},
   "outputs": [
    {
     "name": "stdout",
     "output_type": "stream",
     "text": [
      "7\n"
     ]
    }
   ],
   "source": [
    "y = 5\n",
    "x = 12-y\n",
    "print(x)"
   ]
  },
  {
   "cell_type": "markdown",
   "id": "5397c946",
   "metadata": {},
   "source": [
    "# Booleans\n",
    "\n",
    "Page 38\n",
    "\n",
    "Data Type where teh values are only True or False\n",
    "\n",
    "Used alot in functions"
   ]
  },
  {
   "cell_type": "code",
   "execution_count": 6,
   "id": "c3c497c8",
   "metadata": {},
   "outputs": [
    {
     "data": {
      "text/plain": [
       "True"
      ]
     },
     "execution_count": 6,
     "metadata": {},
     "output_type": "execute_result"
    }
   ],
   "source": [
    "bool(1)"
   ]
  },
  {
   "cell_type": "code",
   "execution_count": 7,
   "id": "e8209498",
   "metadata": {},
   "outputs": [
    {
     "data": {
      "text/plain": [
       "True"
      ]
     },
     "execution_count": 7,
     "metadata": {},
     "output_type": "execute_result"
    }
   ],
   "source": [
    "bool(True)"
   ]
  },
  {
   "cell_type": "code",
   "execution_count": 8,
   "id": "4b65cc49",
   "metadata": {},
   "outputs": [
    {
     "data": {
      "text/plain": [
       "True"
      ]
     },
     "execution_count": 8,
     "metadata": {},
     "output_type": "execute_result"
    }
   ],
   "source": [
    "bool(58)"
   ]
  },
  {
   "cell_type": "code",
   "execution_count": 9,
   "id": "7712d8d6",
   "metadata": {},
   "outputs": [
    {
     "data": {
      "text/plain": [
       "False"
      ]
     },
     "execution_count": 9,
     "metadata": {},
     "output_type": "execute_result"
    }
   ],
   "source": [
    "bool(0)"
   ]
  },
  {
   "cell_type": "code",
   "execution_count": 10,
   "id": "9e2d948b",
   "metadata": {},
   "outputs": [
    {
     "data": {
      "text/plain": [
       "False"
      ]
     },
     "execution_count": 10,
     "metadata": {},
     "output_type": "execute_result"
    }
   ],
   "source": [
    "bool(False)"
   ]
  },
  {
   "cell_type": "code",
   "execution_count": 11,
   "id": "c8038cff",
   "metadata": {},
   "outputs": [
    {
     "ename": "NameError",
     "evalue": "name 'false' is not defined",
     "output_type": "error",
     "traceback": [
      "\u001b[1;31m---------------------------------------------------------------------------\u001b[0m",
      "\u001b[1;31mNameError\u001b[0m                                 Traceback (most recent call last)",
      "Input \u001b[1;32mIn [11]\u001b[0m, in \u001b[0;36m<cell line: 1>\u001b[1;34m()\u001b[0m\n\u001b[1;32m----> 1\u001b[0m \u001b[38;5;28mbool\u001b[39m(\u001b[43mfalse\u001b[49m)\n",
      "\u001b[1;31mNameError\u001b[0m: name 'false' is not defined"
     ]
    }
   ],
   "source": [
    "bool(false)"
   ]
  },
  {
   "cell_type": "code",
   "execution_count": 12,
   "id": "e8d02f92",
   "metadata": {},
   "outputs": [
    {
     "data": {
      "text/plain": [
       "False"
      ]
     },
     "execution_count": 12,
     "metadata": {},
     "output_type": "execute_result"
    }
   ],
   "source": [
    "bool(\"\")"
   ]
  },
  {
   "cell_type": "code",
   "execution_count": 13,
   "id": "61a22991",
   "metadata": {},
   "outputs": [
    {
     "data": {
      "text/plain": [
       "True"
      ]
     },
     "execution_count": 13,
     "metadata": {},
     "output_type": "execute_result"
    }
   ],
   "source": [
    "bool('cow')"
   ]
  },
  {
   "cell_type": "code",
   "execution_count": 14,
   "id": "2ef2ecf8",
   "metadata": {},
   "outputs": [
    {
     "data": {
      "text/plain": [
       "True"
      ]
     },
     "execution_count": 14,
     "metadata": {},
     "output_type": "execute_result"
    }
   ],
   "source": [
    "vowels = 'aeiou'\n",
    "letter = 'o'\n",
    "letter in vowels"
   ]
  },
  {
   "cell_type": "markdown",
   "id": "4b25eba0",
   "metadata": {},
   "source": [
    "Boolean is a very flexible data type and can be used to get alot of information within context. "
   ]
  },
  {
   "cell_type": "markdown",
   "id": "350ec678",
   "metadata": {},
   "source": [
    "# Integers\n",
    "\n",
    "Page 38 - 44\n",
    "\n"
   ]
  },
  {
   "cell_type": "code",
   "execution_count": 15,
   "id": "4901d3dc",
   "metadata": {},
   "outputs": [
    {
     "data": {
      "text/plain": [
       "1.8"
      ]
     },
     "execution_count": 15,
     "metadata": {},
     "output_type": "execute_result"
    }
   ],
   "source": [
    "9/5"
   ]
  },
  {
   "cell_type": "code",
   "execution_count": 16,
   "id": "485be948",
   "metadata": {},
   "outputs": [
    {
     "data": {
      "text/plain": [
       "1"
      ]
     },
     "execution_count": 16,
     "metadata": {},
     "output_type": "execute_result"
    }
   ],
   "source": [
    "9//5"
   ]
  },
  {
   "cell_type": "code",
   "execution_count": 17,
   "id": "d96f3194",
   "metadata": {},
   "outputs": [
    {
     "data": {
      "text/plain": [
       "3.75"
      ]
     },
     "execution_count": 17,
     "metadata": {},
     "output_type": "execute_result"
    }
   ],
   "source": [
    "15/4"
   ]
  },
  {
   "cell_type": "code",
   "execution_count": 18,
   "id": "4ba45bc4",
   "metadata": {},
   "outputs": [
    {
     "data": {
      "text/plain": [
       "3"
      ]
     },
     "execution_count": 18,
     "metadata": {},
     "output_type": "execute_result"
    }
   ],
   "source": [
    "15//4"
   ]
  },
  {
   "cell_type": "code",
   "execution_count": 19,
   "id": "d9897ce5",
   "metadata": {},
   "outputs": [
    {
     "data": {
      "text/plain": [
       "4"
      ]
     },
     "execution_count": 19,
     "metadata": {},
     "output_type": "execute_result"
    }
   ],
   "source": [
    "9 % 5 # Modulos - outputs the remainder\n"
   ]
  },
  {
   "cell_type": "code",
   "execution_count": 21,
   "id": "f0a9638f",
   "metadata": {},
   "outputs": [
    {
     "data": {
      "text/plain": [
       "3"
      ]
     },
     "execution_count": 21,
     "metadata": {},
     "output_type": "execute_result"
    }
   ],
   "source": [
    "15 % 4"
   ]
  },
  {
   "cell_type": "markdown",
   "id": "aec5810a",
   "metadata": {},
   "source": [
    "# Bases\n",
    "\n",
    "Page 44 - 46\n",
    "\n",
    "Like base 10 or changing bases like 6, or 16 are other common onces\n",
    "\n",
    "Bases - We know in Python we start at zero, count up to 9, and then add a second digit to get to 10.  We then repeat this process to get higher. "
   ]
  },
  {
   "cell_type": "code",
   "execution_count": 22,
   "id": "7b6a6264",
   "metadata": {},
   "outputs": [
    {
     "data": {
      "text/plain": [
       "0"
      ]
     },
     "execution_count": 22,
     "metadata": {},
     "output_type": "execute_result"
    }
   ],
   "source": [
    "0b00\n"
   ]
  },
  {
   "cell_type": "code",
   "execution_count": 23,
   "id": "9e2d026a",
   "metadata": {},
   "outputs": [
    {
     "data": {
      "text/plain": [
       "1"
      ]
     },
     "execution_count": 23,
     "metadata": {},
     "output_type": "execute_result"
    }
   ],
   "source": [
    "0b01"
   ]
  },
  {
   "cell_type": "code",
   "execution_count": 24,
   "id": "a371e032",
   "metadata": {},
   "outputs": [
    {
     "data": {
      "text/plain": [
       "2"
      ]
     },
     "execution_count": 24,
     "metadata": {},
     "output_type": "execute_result"
    }
   ],
   "source": [
    "0b10"
   ]
  },
  {
   "cell_type": "markdown",
   "id": "16d62281",
   "metadata": {},
   "source": [
    "commonly they are typed out 0b0000 form"
   ]
  },
  {
   "cell_type": "code",
   "execution_count": 25,
   "id": "ed7a118d",
   "metadata": {},
   "outputs": [
    {
     "data": {
      "text/plain": [
       "1"
      ]
     },
     "execution_count": 25,
     "metadata": {},
     "output_type": "execute_result"
    }
   ],
   "source": [
    "0b0001"
   ]
  },
  {
   "cell_type": "code",
   "execution_count": 27,
   "id": "bafcd511",
   "metadata": {},
   "outputs": [
    {
     "data": {
      "text/plain": [
       "2"
      ]
     },
     "execution_count": 27,
     "metadata": {},
     "output_type": "execute_result"
    }
   ],
   "source": [
    "0b0010"
   ]
  },
  {
   "cell_type": "code",
   "execution_count": 29,
   "id": "5eb1e5c9",
   "metadata": {},
   "outputs": [
    {
     "data": {
      "text/plain": [
       "3"
      ]
     },
     "execution_count": 29,
     "metadata": {},
     "output_type": "execute_result"
    }
   ],
   "source": [
    "0b11"
   ]
  },
  {
   "cell_type": "code",
   "execution_count": 30,
   "id": "d4035161",
   "metadata": {},
   "outputs": [
    {
     "data": {
      "text/plain": [
       "10"
      ]
     },
     "execution_count": 30,
     "metadata": {},
     "output_type": "execute_result"
    }
   ],
   "source": [
    "0b1010"
   ]
  },
  {
   "cell_type": "code",
   "execution_count": 31,
   "id": "8bd28c9b",
   "metadata": {},
   "outputs": [
    {
     "data": {
      "text/plain": [
       "'0b111000'"
      ]
     },
     "execution_count": 31,
     "metadata": {},
     "output_type": "execute_result"
    }
   ],
   "source": [
    " # get a number in binary form\n",
    "\n",
    "bin(56)\n",
    "    "
   ]
  },
  {
   "cell_type": "code",
   "execution_count": 33,
   "id": "42461ae9",
   "metadata": {},
   "outputs": [
    {
     "data": {
      "text/plain": [
       "'0b111101011100011'"
      ]
     },
     "execution_count": 33,
     "metadata": {},
     "output_type": "execute_result"
    }
   ],
   "source": [
    "bin(31459)"
   ]
  },
  {
   "cell_type": "markdown",
   "id": "ac992fff",
   "metadata": {},
   "source": [
    "# Type Conversion\n",
    "\n",
    "page 47 - 49\n",
    "\n"
   ]
  },
  {
   "cell_type": "markdown",
   "id": "86e552af",
   "metadata": {},
   "source": [
    "# Jump to Module 1 Quiz\n",
    "\n"
   ]
  },
  {
   "cell_type": "code",
   "execution_count": 34,
   "id": "c2e8a97e",
   "metadata": {},
   "outputs": [
    {
     "data": {
      "text/plain": [
       "tuple"
      ]
     },
     "execution_count": 34,
     "metadata": {},
     "output_type": "execute_result"
    }
   ],
   "source": [
    "x=1,000,000\n",
    "type(x)"
   ]
  },
  {
   "cell_type": "code",
   "execution_count": 35,
   "id": "70f08486",
   "metadata": {},
   "outputs": [
    {
     "ename": "SyntaxError",
     "evalue": "invalid syntax (2356340731.py, line 1)",
     "output_type": "error",
     "traceback": [
      "\u001b[1;36m  Input \u001b[1;32mIn [35]\u001b[1;36m\u001b[0m\n\u001b[1;33m    print(4 e4)\u001b[0m\n\u001b[1;37m            ^\u001b[0m\n\u001b[1;31mSyntaxError\u001b[0m\u001b[1;31m:\u001b[0m invalid syntax\n"
     ]
    }
   ],
   "source": [
    "print(4 e4)"
   ]
  },
  {
   "cell_type": "code",
   "execution_count": 36,
   "id": "7907fa89",
   "metadata": {},
   "outputs": [
    {
     "data": {
      "text/plain": [
       "int"
      ]
     },
     "execution_count": 36,
     "metadata": {},
     "output_type": "execute_result"
    }
   ],
   "source": [
    "x = 1_000_000\n",
    "type(x)"
   ]
  },
  {
   "cell_type": "code",
   "execution_count": 37,
   "id": "f419a973",
   "metadata": {},
   "outputs": [
    {
     "data": {
      "text/plain": [
       "2"
      ]
     },
     "execution_count": 37,
     "metadata": {},
     "output_type": "execute_result"
    }
   ],
   "source": [
    "15//7"
   ]
  },
  {
   "cell_type": "code",
   "execution_count": 39,
   "id": "14dfd159",
   "metadata": {},
   "outputs": [
    {
     "data": {
      "text/plain": [
       "['12/18/52']"
      ]
     },
     "execution_count": 39,
     "metadata": {},
     "output_type": "execute_result"
    }
   ],
   "source": [
    "birthday = '12/18/52' #\n",
    "birthday.split()"
   ]
  },
  {
   "cell_type": "code",
   "execution_count": 40,
   "id": "0625a761",
   "metadata": {},
   "outputs": [
    {
     "data": {
      "text/plain": [
       "tuple"
      ]
     },
     "execution_count": 40,
     "metadata": {},
     "output_type": "execute_result"
    }
   ],
   "source": [
    "names = 'Cap', \"T'Challa\", 'Carol'\n",
    "type(names)"
   ]
  },
  {
   "cell_type": "code",
   "execution_count": 41,
   "id": "fa4a5c12",
   "metadata": {},
   "outputs": [
    {
     "data": {
      "text/plain": [
       "tuple"
      ]
     },
     "execution_count": 41,
     "metadata": {},
     "output_type": "execute_result"
    }
   ],
   "source": [
    "name = ('James Bond',)\n",
    "type(name)"
   ]
  },
  {
   "cell_type": "code",
   "execution_count": 53,
   "id": "bd3a80a7",
   "metadata": {},
   "outputs": [
    {
     "data": {
      "text/plain": [
       "'CowCowCow'"
      ]
     },
     "execution_count": 53,
     "metadata": {},
     "output_type": "execute_result"
    }
   ],
   "source": [
    "'Cow'*3"
   ]
  },
  {
   "cell_type": "code",
   "execution_count": 54,
   "id": "e9cda123",
   "metadata": {},
   "outputs": [
    {
     "data": {
      "text/plain": [
       "3"
      ]
     },
     "execution_count": 54,
     "metadata": {},
     "output_type": "execute_result"
    }
   ],
   "source": [
    "True + 2"
   ]
  },
  {
   "cell_type": "code",
   "execution_count": 48,
   "id": "63058a0a",
   "metadata": {},
   "outputs": [
    {
     "data": {
      "text/plain": [
       "88"
      ]
     },
     "execution_count": 48,
     "metadata": {},
     "output_type": "execute_result"
    }
   ],
   "source": [
    "dict1 = {'cow':17, 'chicken':88, 'rooster':6}\n",
    "dict1['chicken']"
   ]
  },
  {
   "cell_type": "code",
   "execution_count": 49,
   "id": "78074f9c",
   "metadata": {},
   "outputs": [
    {
     "data": {
      "text/plain": [
       "True"
      ]
     },
     "execution_count": 49,
     "metadata": {},
     "output_type": "execute_result"
    }
   ],
   "source": [
    "bool(1)"
   ]
  },
  {
   "cell_type": "code",
   "execution_count": 50,
   "id": "46f30007",
   "metadata": {},
   "outputs": [
    {
     "data": {
      "text/plain": [
       "False"
      ]
     },
     "execution_count": 50,
     "metadata": {},
     "output_type": "execute_result"
    }
   ],
   "source": [
    "bool(0.0)"
   ]
  },
  {
   "cell_type": "code",
   "execution_count": 51,
   "id": "fb0dd947",
   "metadata": {},
   "outputs": [
    {
     "ename": "SyntaxError",
     "evalue": "invalid syntax (1716493483.py, line 1)",
     "output_type": "error",
     "traceback": [
      "\u001b[1;36m  Input \u001b[1;32mIn [51]\u001b[1;36m\u001b[0m\n\u001b[1;33m    7 +\u001b[0m\n\u001b[1;37m       ^\u001b[0m\n\u001b[1;31mSyntaxError\u001b[0m\u001b[1;31m:\u001b[0m invalid syntax\n"
     ]
    }
   ],
   "source": [
    "7 +\n",
    "\n",
    "11"
   ]
  },
  {
   "cell_type": "code",
   "execution_count": 52,
   "id": "4d18ec47",
   "metadata": {},
   "outputs": [
    {
     "data": {
      "text/plain": [
       "13"
      ]
     },
     "execution_count": 52,
     "metadata": {},
     "output_type": "execute_result"
    }
   ],
   "source": [
    "(5 +\n",
    " \n",
    "8)"
   ]
  },
  {
   "cell_type": "code",
   "execution_count": 55,
   "id": "0c94495e",
   "metadata": {},
   "outputs": [
    {
     "name": "stdout",
     "output_type": "stream",
     "text": [
      "[5, 10, 15]\n"
     ]
    }
   ],
   "source": [
    "a = [5,10,15]\n",
    "b = a.copy()\n",
    "c = list(a)\n",
    "a[0]=50\n",
    "print(b)"
   ]
  },
  {
   "cell_type": "code",
   "execution_count": 59,
   "id": "a544dc97",
   "metadata": {},
   "outputs": [
    {
     "data": {
      "text/plain": [
       "tuple"
      ]
     },
     "execution_count": 59,
     "metadata": {},
     "output_type": "execute_result"
    }
   ],
   "source": [
    "type((1,5,7,9))"
   ]
  },
  {
   "cell_type": "code",
   "execution_count": 1,
   "id": "bf717c02",
   "metadata": {},
   "outputs": [
    {
     "ename": "SyntaxError",
     "evalue": "invalid syntax (2719626068.py, line 1)",
     "output_type": "error",
     "traceback": [
      "\u001b[1;36m  Input \u001b[1;32mIn [1]\u001b[1;36m\u001b[0m\n\u001b[1;33m    print([3000:5001])\u001b[0m\n\u001b[1;37m               ^\u001b[0m\n\u001b[1;31mSyntaxError\u001b[0m\u001b[1;31m:\u001b[0m invalid syntax\n"
     ]
    }
   ],
   "source": [
    "print([3000:5001])"
   ]
  },
  {
   "cell_type": "code",
   "execution_count": 11,
   "id": "c18bf6b7",
   "metadata": {},
   "outputs": [
    {
     "name": "stdout",
     "output_type": "stream",
     "text": [
      "[]\n"
     ]
    }
   ],
   "source": [
    "value = 3\n",
    "\n",
    "def inrange(value):\n",
    "    base =[]\n",
    "    for i in range(3000, 5001):\n",
    "        if (i % value == 0 and i % (value+7) == 0 and i % value**2 == 0):\n",
    "            base.append(i)\n",
    "        else:\n",
    "            continue\n",
    "print(base)"
   ]
  },
  {
   "cell_type": "code",
   "execution_count": 12,
   "id": "753e5569",
   "metadata": {},
   "outputs": [
    {
     "name": "stdout",
     "output_type": "stream",
     "text": [
      "<class 'numpy.ndarray'>\n",
      "15120\n"
     ]
    }
   ],
   "source": [
    "list = [5,6,7,8,9]\n",
    "import numpy as np\n",
    "\n",
    "array = np.array(list)\n",
    "\n",
    "print(type(array))\n",
    "\n",
    "print(np.prod(array))"
   ]
  },
  {
   "cell_type": "code",
   "execution_count": null,
   "id": "13ae9152",
   "metadata": {},
   "outputs": [],
   "source": []
  }
 ],
 "metadata": {
  "kernelspec": {
   "display_name": "Python 3 (ipykernel)",
   "language": "python",
   "name": "python3"
  },
  "language_info": {
   "codemirror_mode": {
    "name": "ipython",
    "version": 3
   },
   "file_extension": ".py",
   "mimetype": "text/x-python",
   "name": "python",
   "nbconvert_exporter": "python",
   "pygments_lexer": "ipython3",
   "version": "3.9.12"
  }
 },
 "nbformat": 4,
 "nbformat_minor": 5
}
