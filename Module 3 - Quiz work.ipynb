{
 "cells": [
  {
   "cell_type": "markdown",
   "id": "b09fec5d",
   "metadata": {},
   "source": [
    "# Quiz 1"
   ]
  },
  {
   "cell_type": "code",
   "execution_count": null,
   "id": "8da60ac4",
   "metadata": {},
   "outputs": [],
   "source": [
    "def fruit(color):\n",
    "    if color == 'red':\n",
    "        print('strawberry')\n",
    "    if color == 'green':\n",
    "        print('kiwi')\n",
    "    if color == 'yellow':\n",
    "        print('banana')"
   ]
  },
  {
   "cell_type": "code",
   "execution_count": 2,
   "id": "b1f100b8",
   "metadata": {},
   "outputs": [
    {
     "name": "stdout",
     "output_type": "stream",
     "text": [
      "strawberry\n"
     ]
    }
   ],
   "source": [
    "fruit('red')"
   ]
  },
  {
   "cell_type": "code",
   "execution_count": 3,
   "id": "1ba3eea2",
   "metadata": {},
   "outputs": [],
   "source": [
    "def hello(x):\n",
    "    '''This function prints a greeting'''\n",
    "    print(f\"Hello {x.upper()}!!!\")"
   ]
  },
  {
   "cell_type": "code",
   "execution_count": 4,
   "id": "0eeee67d",
   "metadata": {},
   "outputs": [
    {
     "name": "stdout",
     "output_type": "stream",
     "text": [
      "Hello YODA!!!\n"
     ]
    }
   ],
   "source": [
    "hello('Yoda')"
   ]
  },
  {
   "cell_type": "code",
   "execution_count": 5,
   "id": "08d861e8",
   "metadata": {},
   "outputs": [
    {
     "data": {
      "text/plain": [
       "False"
      ]
     },
     "execution_count": 5,
     "metadata": {},
     "output_type": "execute_result"
    }
   ],
   "source": [
    "None == False"
   ]
  },
  {
   "cell_type": "code",
   "execution_count": 22,
   "id": "a46c21aa",
   "metadata": {},
   "outputs": [],
   "source": [
    "def classes(*args):\n",
    "    print(f'My classes are: {args}')"
   ]
  },
  {
   "cell_type": "code",
   "execution_count": 23,
   "id": "51d62faa",
   "metadata": {},
   "outputs": [
    {
     "name": "stdout",
     "output_type": "stream",
     "text": [
      "My classes are: ('DTSC520', 'DTSC550', 'DTSC575')\n"
     ]
    }
   ],
   "source": [
    "classes('DTSC520', 'DTSC550', 'DTSC575')"
   ]
  },
  {
   "cell_type": "code",
   "execution_count": 25,
   "id": "a567e57e",
   "metadata": {},
   "outputs": [
    {
     "name": "stdout",
     "output_type": "stream",
     "text": [
      "('DTSC520', 'DTSC550', 'DTSC575')\n"
     ]
    }
   ],
   "source": [
    "def classes(*args):\n",
    "    print(args)\n",
    "    \n",
    "classes('DTSC520', 'DTSC550', 'DTSC575')"
   ]
  },
  {
   "cell_type": "markdown",
   "id": "747f9fa8",
   "metadata": {},
   "source": [
    " # Quiz 2"
   ]
  },
  {
   "cell_type": "code",
   "execution_count": 26,
   "id": "26ef6c1a",
   "metadata": {},
   "outputs": [
    {
     "ename": "SyntaxError",
     "evalue": "invalid syntax (1055481298.py, line 1)",
     "output_type": "error",
     "traceback": [
      "\u001b[1;36m  Input \u001b[1;32mIn [26]\u001b[1;36m\u001b[0m\n\u001b[1;33m    def cube(x)\u001b[0m\n\u001b[1;37m               ^\u001b[0m\n\u001b[1;31mSyntaxError\u001b[0m\u001b[1;31m:\u001b[0m invalid syntax\n"
     ]
    }
   ],
   "source": [
    "def cube(x)\n",
    "    '''This function cubes a value'''\n",
    "    x3 = x*x*x\n",
    "    print(f\"Your Value is {x3}\")\n",
    "    \n",
    "cube(4)"
   ]
  },
  {
   "cell_type": "code",
   "execution_count": 27,
   "id": "023407f5",
   "metadata": {},
   "outputs": [
    {
     "data": {
      "text/plain": [
       "9"
      ]
     },
     "execution_count": 27,
     "metadata": {},
     "output_type": "execute_result"
    }
   ],
   "source": [
    "def fun2(x):\n",
    "    return x*x\n",
    "\n",
    "fun2(3)"
   ]
  },
  {
   "cell_type": "code",
   "execution_count": 28,
   "id": "3d3a3f33",
   "metadata": {},
   "outputs": [
    {
     "data": {
      "text/plain": [
       "False"
      ]
     },
     "execution_count": 28,
     "metadata": {},
     "output_type": "execute_result"
    }
   ],
   "source": [
    "None == {}"
   ]
  },
  {
   "cell_type": "code",
   "execution_count": null,
   "id": "171fa3a8",
   "metadata": {},
   "outputs": [],
   "source": [
    "def animal(species, height, weight):\n",
    "    # positional???"
   ]
  }
 ],
 "metadata": {
  "kernelspec": {
   "display_name": "Python 3 (ipykernel)",
   "language": "python",
   "name": "python3"
  },
  "language_info": {
   "codemirror_mode": {
    "name": "ipython",
    "version": 3
   },
   "file_extension": ".py",
   "mimetype": "text/x-python",
   "name": "python",
   "nbconvert_exporter": "python",
   "pygments_lexer": "ipython3",
   "version": "3.9.12"
  }
 },
 "nbformat": 4,
 "nbformat_minor": 5
}
